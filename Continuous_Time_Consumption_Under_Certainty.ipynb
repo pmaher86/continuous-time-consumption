{
  "nbformat": 4,
  "nbformat_minor": 0,
  "metadata": {
    "colab": {
      "name": "Continuous Time Consumption Under Certainty",
      "provenance": [],
      "collapsed_sections": [
        "vWPO0v8-xlda"
      ],
      "toc_visible": true,
      "authorship_tag": "ABX9TyO3UQ1Gxb8pBUbnr7eZuO70",
      "include_colab_link": true
    },
    "kernelspec": {
      "name": "python3",
      "display_name": "Python 3"
    },
    "widgets": {
      "application/vnd.jupyter.widget-state+json": {
        "86f75dbb53ae494bae67272703ca1227": {
          "model_module": "@jupyter-widgets/controls",
          "model_name": "VBoxModel",
          "state": {
            "_view_name": "VBoxView",
            "_dom_classes": [
              "widget-interact"
            ],
            "_model_name": "VBoxModel",
            "_view_module": "@jupyter-widgets/controls",
            "_model_module_version": "1.5.0",
            "_view_count": null,
            "_view_module_version": "1.5.0",
            "box_style": "",
            "layout": "IPY_MODEL_f34c26c6609b49a8b2af0e162d098623",
            "_model_module": "@jupyter-widgets/controls",
            "children": [
              "IPY_MODEL_2e138bf503774f6692ad3908bf596424",
              "IPY_MODEL_0367ea7a41b440f9942de2abe4f5e1fc",
              "IPY_MODEL_6a7997afcc4c4f589a55501a59e62d0a",
              "IPY_MODEL_2e3be3ec32a4415a9381a4f8c5f62384",
              "IPY_MODEL_3f5dcbe585474806a3d2d0ce5373db49",
              "IPY_MODEL_dc48f25c04c7487a98f8c109f22e6281"
            ]
          }
        },
        "f34c26c6609b49a8b2af0e162d098623": {
          "model_module": "@jupyter-widgets/base",
          "model_name": "LayoutModel",
          "state": {
            "_view_name": "LayoutView",
            "grid_template_rows": null,
            "right": null,
            "justify_content": null,
            "_view_module": "@jupyter-widgets/base",
            "overflow": null,
            "_model_module_version": "1.2.0",
            "_view_count": null,
            "flex_flow": null,
            "width": null,
            "min_width": null,
            "border": null,
            "align_items": null,
            "bottom": null,
            "_model_module": "@jupyter-widgets/base",
            "top": null,
            "grid_column": null,
            "overflow_y": null,
            "overflow_x": null,
            "grid_auto_flow": null,
            "grid_area": null,
            "grid_template_columns": null,
            "flex": null,
            "_model_name": "LayoutModel",
            "justify_items": null,
            "grid_row": null,
            "max_height": null,
            "align_content": null,
            "visibility": null,
            "align_self": null,
            "height": null,
            "min_height": null,
            "padding": null,
            "grid_auto_rows": null,
            "grid_gap": null,
            "max_width": null,
            "order": null,
            "_view_module_version": "1.2.0",
            "grid_template_areas": null,
            "object_position": null,
            "object_fit": null,
            "grid_auto_columns": null,
            "margin": null,
            "display": null,
            "left": null
          }
        },
        "2e138bf503774f6692ad3908bf596424": {
          "model_module": "@jupyter-widgets/controls",
          "model_name": "FloatSliderModel",
          "state": {
            "_view_name": "FloatSliderView",
            "style": "IPY_MODEL_70b306901387476aa6186492c46f4b0c",
            "_dom_classes": [],
            "description": "R",
            "step": 0.001,
            "_model_name": "FloatSliderModel",
            "orientation": "horizontal",
            "max": 0.05,
            "_view_module": "@jupyter-widgets/controls",
            "_model_module_version": "1.5.0",
            "value": 0.05,
            "_view_count": null,
            "disabled": false,
            "_view_module_version": "1.5.0",
            "min": 0,
            "continuous_update": true,
            "readout_format": ".3f",
            "description_tooltip": null,
            "readout": true,
            "_model_module": "@jupyter-widgets/controls",
            "layout": "IPY_MODEL_d2e5c70993314052be7b9e612295055e"
          }
        },
        "0367ea7a41b440f9942de2abe4f5e1fc": {
          "model_module": "@jupyter-widgets/controls",
          "model_name": "FloatSliderModel",
          "state": {
            "_view_name": "FloatSliderView",
            "style": "IPY_MODEL_e09d30ee922a4f6393d04cc799ff26f3",
            "_dom_classes": [],
            "description": "w",
            "step": 0.001,
            "_model_name": "FloatSliderModel",
            "orientation": "horizontal",
            "max": 0.05,
            "_view_module": "@jupyter-widgets/controls",
            "_model_module_version": "1.5.0",
            "value": 0.03,
            "_view_count": null,
            "disabled": false,
            "_view_module_version": "1.5.0",
            "min": 0,
            "continuous_update": true,
            "readout_format": ".3f",
            "description_tooltip": null,
            "readout": true,
            "_model_module": "@jupyter-widgets/controls",
            "layout": "IPY_MODEL_6c0ccf4bff444b22b61aaedc6e5b9de6"
          }
        },
        "6a7997afcc4c4f589a55501a59e62d0a": {
          "model_module": "@jupyter-widgets/controls",
          "model_name": "FloatSliderModel",
          "state": {
            "_view_name": "FloatSliderView",
            "style": "IPY_MODEL_d6c6bae030904f18baadb36a4ab76867",
            "_dom_classes": [],
            "description": "gamma",
            "step": 0.001,
            "_model_name": "FloatSliderModel",
            "orientation": "horizontal",
            "max": 0.05,
            "_view_module": "@jupyter-widgets/controls",
            "_model_module_version": "1.5.0",
            "value": 0.03,
            "_view_count": null,
            "disabled": false,
            "_view_module_version": "1.5.0",
            "min": 0,
            "continuous_update": true,
            "readout_format": ".3f",
            "description_tooltip": null,
            "readout": true,
            "_model_module": "@jupyter-widgets/controls",
            "layout": "IPY_MODEL_6682d13839df4ef1aff6e91a382ceab3"
          }
        },
        "2e3be3ec32a4415a9381a4f8c5f62384": {
          "model_module": "@jupyter-widgets/controls",
          "model_name": "IntSliderModel",
          "state": {
            "_view_name": "IntSliderView",
            "style": "IPY_MODEL_b1d87215e3b34af9a47691b319440b9e",
            "_dom_classes": [],
            "description": "T",
            "step": 1,
            "_model_name": "IntSliderModel",
            "orientation": "horizontal",
            "max": 100,
            "_view_module": "@jupyter-widgets/controls",
            "_model_module_version": "1.5.0",
            "value": 100,
            "_view_count": null,
            "disabled": false,
            "_view_module_version": "1.5.0",
            "min": 1,
            "continuous_update": true,
            "readout_format": "d",
            "description_tooltip": null,
            "readout": true,
            "_model_module": "@jupyter-widgets/controls",
            "layout": "IPY_MODEL_c5326ed56b734cc7bf674da3c36a5042"
          }
        },
        "3f5dcbe585474806a3d2d0ce5373db49": {
          "model_module": "@jupyter-widgets/controls",
          "model_name": "IntSliderModel",
          "state": {
            "_view_name": "IntSliderView",
            "style": "IPY_MODEL_c5a6eb8b2ef141d9af26b4521dbde6bc",
            "_dom_classes": [],
            "description": "A_0",
            "step": 1,
            "_model_name": "IntSliderModel",
            "orientation": "horizontal",
            "max": 100,
            "_view_module": "@jupyter-widgets/controls",
            "_model_module_version": "1.5.0",
            "value": 35,
            "_view_count": null,
            "disabled": false,
            "_view_module_version": "1.5.0",
            "min": 0,
            "continuous_update": true,
            "readout_format": "d",
            "description_tooltip": null,
            "readout": true,
            "_model_module": "@jupyter-widgets/controls",
            "layout": "IPY_MODEL_c8ae755dcce04e0bb7657d179447f12c"
          }
        },
        "dc48f25c04c7487a98f8c109f22e6281": {
          "model_module": "@jupyter-widgets/output",
          "model_name": "OutputModel",
          "state": {
            "_view_name": "OutputView",
            "msg_id": "",
            "_dom_classes": [],
            "_model_name": "OutputModel",
            "outputs": [
              {
                "output_type": "display_data",
                "metadata": {
                  "tags": [],
                  "needs_background": "light"
                },
                "image/png": "iVBORw0KGgoAAAANSUhEUgAAAtsAAAGACAYAAAB80a4BAAAABHNCSVQICAgIfAhkiAAAAAlwSFlzAAALEgAACxIB0t1+/AAAADh0RVh0U29mdHdhcmUAbWF0cGxvdGxpYiB2ZXJzaW9uMy4yLjIsIGh0dHA6Ly9tYXRwbG90bGliLm9yZy+WH4yJAAAgAElEQVR4nOzdd3zUVb7/8deZmUwaKSQhdBJq6F1A0BW7YgXLKojddXXVda9ud6/u3m1X927zJ/YVbLgWsKLYFem9Q2ihQwghvU7m/P6YgUVEJDCZ78zk/Xw88oDMDJO3qPDmcM7nGGstIiIiIiISei6nA4iIiIiIxCqVbRERERGRJqKyLSIiIiLSRFS2RURERESaiMq2iIiIiEgTUdkWEREREWkiHqcDNJWsrCybm5vrdAwRkROyePHiImttK6dzhJN+3RaRaHWsX7Njtmzn5uayaNEip2OIiJwQY8xWpzOEm37dFpFodaxfs7WNRERERESkiahsi4iIiIg0EZVtEREREZEmorItIiIiItJEHCnbxhiXMWaOMcYaYzoc9vj1xphNxpgqY8x8Y8wQJ/KJiIiIiISCUyvbPwGqDn/AGHMa8DhwB9ASeAOYYYxJDX88EREREZGTF/aybYzpAdwJ3H/EU7cB06y1H1pra4FHgFpgbJgjioiIiIiERFjLtjHGBfyLQNEuOeLpAcDig59Yay2wNPj48b5/pjGmhzGmh8/nC0FiEREREZETF+6V7R8De6y104/yXApQesRjJUBjtpHcDawH1hcWFp5YQhERERGREAlb2TbGdAPuA+76lpeUA2lHPJYOlDXiyzwK5AF52dnZjc4oIiIiIhJK4VzZPg1oBawyxhQBS4KPrzDG3AksBwYffLExxgADg48fF2vtfmttvrU23+OJ2ZvoRURERCRKhLORvgp8fNjnHYC5wHnAOmAF8IExZgowC7gHSACOtuVEmkhNfQOl1fWUVNVTXd9ATX0DdT4/LmNwGYjzuEj2ekhJ8JCWFEdKvIfAn4tEREREoteHq/eQnuTllNyWIe02YSvb1toqDhv3Z4w5+LX3WGsrgK+CK9xPA22BlcAYa21jtpHId7DWsuNANfl7y9lSVMnmokq2F1exu7SGPaU1VNQ27mBpQpyL7JQEOrRMJDcrmS5ZyfRsk0qfdqm0TPY20T+FiIiISOg0+C0Pvb2aXaU13HduD+4+u3vI3tuxvRbW2gLAHPHY88DzjgSKUYXlNSzZWsLSbQdYtr2ENbvLKK8J3aSWmno/24qr2FZcxZxN+7/2XPv0RIbmtuSU3AxO7ZpJl6xkrYKLiIhIxPlsXSG7SmsAuKBvm5C+tzY2x5iymnpmbyhi9qYi5mzaz+Z9lUd9nctAx4wkumQlk5OZTNu0BNqmJ5LVwkvLJC/pSXEkeT3Ee1x43S4s4LeWOp+fylof5bU+DlTWUVhey57SGrYVV1Gwv5JN+yrYXlwNwM6SanYuq+atZbsA6JSRxJl5rTivTxuGd87A43bqTiUROR7GmGuAHxEYwZpkrfUc8fz9BC4iywb2AH+z1k4Ke1ARkZP00vytAAzvnEH31ikhfW+V7RhQUFTJzNV7+GRtIYu3HaDBb7/2vMdl6N0ulYEd0+nbPo3ebVPplt2ChDh3o76OG0Oc20VyvIdsCBx3PYqymnrW7ipj2fYSFhYUs2BLMWU1PrYVVzFl7lamzN1KVgsvY/q15YrBHejfIU0r3iKR6QAwCUgEnjr8CWPMpcBvgbOttfOMMacCHxtjNlhrPwp/VBGRE7O9uIrP8/cBMGFETsjfX2U7ShUUVfLO8l28t3I36/aUf+05t8swqGM6I7tmMqJrJoM6tiTR27hifTJSE+IY3iWT4V0yuf2MrjT4LSt2lPDZukI+WVfI6l1lFFXU8fzcrTw/dyu92qYyflhHxg3uQHK8/pMUiRTW2pkAxpjRR3m6G7DcWjsv+Nq5xpgVBFbBVbZFJGpMXbANayEz2cv5fVqH/P3VbKLIgco63l6+izeW7GDFjq/f/9MyKY6ze7XmrJ7ZjOqWRVpinEMpv8ntMgzq1JJBnVryX+flsaWokneX72L60p1sLqpk7e4yfvPWah6ZuZ4JI3K4cWQurVMTnI4tIsf2CnCzMWYUgclSo4AewAeNeRNjTCaQCTBgwHFfGCwiEhJ1Pj+vLtoOwFVDOxLvCf3ipMp2hPP7LbM3FTF1wTY+WrOX+ob/bBHJauHlwr5tGdOvLafktoyaPdCds5K5++zu3HVWNxZsKWbqgm3MWLmHshofj3++iWdnbeHaYR2588xuKt0ikasQeB34jP/c2XCvtXZVI9/nbuBBAN38KyLh9uGaPRRV1GEMjB/WqUm+hsp2hCqpquOVhdt5ef42thUfmphIYpybC/u2Yezg9pzaJTNqCvbRGGMObTf51Zgapswt4MV52yitrmfK3K28snA7E0fkcPdZ3UlLipyVehEB4DfAtQQuH1sL9AbeNsZUW2ufbcT7PAq8DJCdnb0+5ClFRI7hxXmBg5Hf696KTplJTfI1VLYjzPo95Tw3ewtvLttJTb3/0OMDO6Zz7bCOXNS/HS1icF9zdmoCPz2/J3eO7saUuQU89eVmSqrqeearLby+ZAf3nt2dCSNyiIviP1yIxJghwHRr7Zrg56uNMW8ClwDHXbattfuB/QBDhw4NeUgRkW+Tv7eceZuLAZgwvGlWtUFlOyJYa5mzaT9PfbmZL4KnYSGwij12cHuuG55D73apDiYMn+R4D3eO7sbEETk8M2vLodL90DtrmLpgO38c148hOS2djinSLBhj3EAc4A1+fnBfVy0wG7jRGPOMtXaDMaYXcDkw2YmsIiKNdXBVu316Imf3Cv3ByINUth3k91s+XLOXSZ9v/NqBxw4tE7lxZC5XDe0YUQcdwyklIY6fnNuDa4d14uGZ65i2ZCfr95ZzxeNzGD+8E7+4sCepCc3z50YkjCYCzx32eXXw287AI0Aa8JExJgsoBl4D/hzWhCIiJ6Ci1se0JTsBGD+8E25X040gVtl2QIPf8t7K3Tz6yQY2FFYcenxAhzR+8L2unN+ndVTvxQ6lNmkJ/PXqgUwY3olfTltJ/t4KXp6/jc/XFfKXqwYwsluW0xFFYpa1djLHXqn+RfBDRCSqTF+6k4paH163i++f0rFJv5bKdhj5/ZZ3V+7mHx/ns+mwmx1P757FHaO7cmqXTF3u8i2G5GTw7t2n8/Sszfzj4w3sKq1h/DPzuXFkLr+4sGejL+gRERGR5slay4tzA1tIxvRrQ1aL+Cb9eirbYWCt5aM1e/nrR/lfu4Dm7J7Z3HN2dwZ0THcwXfTwelz86MxunNOrNf/16jJW7ypj8pwCFmwp5rEJg+mclex0RBEREYlwCwsOsH5voI9NPDX0N0YeSWW7iS3YUsyf3l/L0m0lhx47M68VPzm3B/07qGSfiLw2KUy/cxT//GQDj32+kTW7y7j4n7P40xX9uXRAO6fjiYiISASbMrcAgN5tUxncqemHLqhsN5ENe8v58/vr+GTdfy5pOLVLJvefn6dpGiHg9bi4//w8RnTJ5N5/L6Wooo57pi5l1c5Sfn5BzyY96CAiIiLRaU9pDR+s2gPADSNzwrJ9V2U7xIoqavnbR/m8snA7Df7AbY992qXyiwt7cnr3Vg6niz2ndc9ixj2nc9fUpSzYUsxTX25m7e4y/t+1g3URjoiIiHzNy/O30uC3pCXGcemA9mH5mhp5ESK1vgae/GITox/5nJfmb6PBb2mfnsg/rhnIO3edpqLdhLJTE3jp1uFcH9x3NWtDEWMnzWbb/qrv+JEiIiLSXNT6Gnh5wTYArjmlI4ne8AxX0Mp2CHyydi//8+4aCoLlLiXew11ndeOGkbmakhEmcW4Xv7usL73bpvKbt1axuaiScY/P5tkbTtEBVBEREWHGyt0UVdRhDFw3oukPRh6ksn0SCooq+d27a/g0uC/bZeCaYZ2479weZDbxGBk5umuGdaJTRhK3v7CYooo6rnlqHo9NGMRZPZvuZigRERGJfFPmBMb9nd2zNR0zksL2dbWN5ARU1zXwfx+u57y/fXmoaA/rHJgD/cex/VS0HTayWxav3zGSdmkJVNc38IPnF/PO8l1OxxIRERGHLN9ewrLtgclwN47MDevX1sp2I326bi///dZqdhwI3FrcOjWeX1/Um0v6t9WFNBEkr00K0+4cxXXPzmdjYQX3vLKUilof1w7r5HQ0ERERCbPnZm8BoFt2C0Z1ywzr11bZPk57Smt46O3VfLA6MC7G7TLcPCqXH5/Tgxbx+mmMRG3SEnj19lO54V8LWLmzlF9OW0mdz88NYf4TrYiIiDinsKyG91buBgKr2uFeHFVL/A4NfsuL87byyMz1VNT6ABia05Lfj+1LzzapDqeT75KR7OWl24Zz6+RFLCgo5sG3V+MyMPHUXKejiYiISBi8OH8b9Q2W1AQP4waHZ9zf4VS2jyF/bzk/f2PFodsf0xLj+NWYnlw1pCMuXZoSNVIT4njuplO46bmFLCgo5jdvrcYYE9aTyCIiIhJ+tb4GXp4fOBh5zbBOJHnDX31Vto+izufnsc82MunzjdQ3BC6muWxgO35zcW+ydPgxKiXHe/jXTadw478WsGjrAR54cxVJXjfjBndwOpqIiIg0kXeWB8b9uQyH7uMIN5XtIyzbXsLPXl9O/t4KANqnJ/KHsX0ZnZftcDI5WS3iPUy+eRjXPTOfZdtL+OnrK0hJiOPc3hoLKCIiEmustUyeEzgYeV7vNnRoGb5xf4fT6L+gmvoG/jhjLeMmzSZ/bwXGwE2jcvnwJ99T0Y4hLeI9TL7pFPJap9Dgt/zo5SXM2VTkdCwREREJsQVbilm1swyAG0flOpZDZTuoqq6BNxbvwG+hS6tkXv/hqTx4SR+SNWkk5qQneXnhlmF0ykiizufn9ucXs25PmdOxREREJISe/Sqwqt2nXSrDO2c4lkNlOygj2cvvLuvLHaO7MuOe0xmS49y/FGl62akJvHjLcLJaeCmv9XHTcwvZU1rjdCwREREJga37K/lo7V4Abjmts6N3oahsH+ai/m35+QU9SYhzOx1FwqBTZhLP3nAKiXFudpfWcNPkhYfGO4qIiEj0em52AdZCdko8F/dv52gWlW1p1gZ0TOef1w7CZWDt7jLufnkJDX7rdCwRERE5QWU19by2aDsQmEDi9Thbd1W2pdk7t3drHrykDwCfrd/HwzPXOZxIRERETtS/F2ynsq6BeI+L8cOdv1NDZVsEuGFkLhOGdwLgyS82M23JDocTiYiISGPVN/iZPKcAgHGDO5CR7HU2ECrbIoc8dGkfRnQJHIz9xbSVLNte4nAiERERaYwZK3ezs6QaCByMjAQq2yJBcW4XkyYMoWNGInU+P3e+uJjiyjqnY4mIiMhxsNbyzKzAuL+zembTLbuFw4kCVLZFDpOR7OWJ64YQ73Gxq7SGH7+yVAcmRUREosD8LcWs3FkKwG2nd3E4zX+obIscoU+7NP4wth8AszYU8feP8x1OJCIiIt/lmVmbAejbPvXQttBIoLItchRXDunA+OCByUc/3cjn6wsdTiQiIiLfZtO+Cj5eG/i9+rbTuzh6ic2RVLZFvsWDl/SmX/s0AO57dTmFZbphUpoXY8w1xphZxpgyY8w3bnwyxmQbY6YYY/YHX7PMGOPs7REi0iwd3KvdNi2BMf3aOpzm61S2Rb5FvMfNo9cOokW8h/2Vddz772Xavy3NzQFgEnDvkU8YYxKAT4A6IA9IByYAFeEMKCJSWF7DG8GRvTeP6kycO7LqbWSlEYkwuVnJ/GFsXwDmbNrPpM82OpxIJHystTOttVOBzUd5+gYCBftOa22RtdZvrV1trS0Lb0oRae6mzCmgzucnJcHDtcEtoJFEZVvkO1w2sD3fH9oRgL9/soGl2w44nEgkIpwJbAAmB7eRrDPG/KSxb2KMyTTG9DDG9PD5vrFTRUTkmCprfbwwdysA143IoUW8x+FE36SyLXIcHry0N12ykmnwW/7r1eVU1akUSLOXRaBwLwDaAtcBvzbGTGjk+9wNrAfWFxbqILKINM4rC7dTVuPD63Zx08hcp+Mclcq2yHFI8nr4+zUD8bgMW4oq+f17a52OJOK0cmCntfYf1to6a+0i4EXgska+z6ME9nznZWdnhzqjiMSw+gY/zwbH/Y0b3J7s1ASHEx2dyrbIcerfIZ0fn90dgJfnb+OTtXsdTiTiqGXA0U4MN+oUsbV2v7U231qb7/FE3l//ikjkenfFLnaVBiaF3RpBl9gcSWVbpBHuGN2VwZ3SAfjFtJWUVOk6d4ldxhh3cOqIN/h5QvDDAJOBTGPMj4KvG0BgGsk05xKLSHPh91se/3wTAOf2bh0xV7Mfjcq2SCN43C7+evVAEuJc7Cuv5XfvrHE6kkhTmghUAzMBd/D71UCOtXYrMAa4FSgDXgcestb+26GsItKMfLa+kPy9gUmjd4zu6nCaY1PZFmmk3KxkfnZ+TwCmLd3Jx2u0nURik7V2srXWHOWjIPj859baQdbaZGttd2vtYw5HFpFm4uCq9oguGQzu1NLhNMemsi1yAm4cmcspuYH/uX85XdtJREREwmVhQTGLtgbG8N4xupvDab6byrbICXC5DA9fOYB4T2A7yR80nURERCQsDq5q926byve6Zzmc5rupbIucoM5Zydx/Xh4Ary3ewZyNRQ4nEhERiW1rd5fx6brATP47RnclcF47sqlsi5yEm0bl0rd9KgC/mr6SmvoGhxOJiIjErsc+2whATmYSF/Zt43Ca46OyLXISPG4Xfx7XH5eBgv1VPPrpBqcjiYiIxKTN+yp4b+VuAO44oysed3TU2OhIKRLB+rZP45bTOgPw5BebWb+n3OFEIiIiseeJLzZhLbRNS2Dc4A5OxzluKtsiIfCTc3vQPj0Rn9/ym7dWYW2jLtETERGRY9hZUs20JTsBuO30Lng90VNhoyepSARL8np46NI+ACzYUsz0pTsdTiQiIhI7nv5yMz6/JSPZyzXDOjodp1HCWraNMX8wxmwxxpQZYwqNMa8bYzod9vz1xphNxpgqY8x8Y8yQcOYTORnn9m7NOb2yAfjjjLWUVtc7nEhERCT6FZbXMHXBNgBuHpVLktfjcKLGCffK9gvAQGttKpALbANeATDGnAY8DtwBtATeAGYYY1LDnFHkhD14SR/iPS6KKur464frnY4jIiIS9Z6ZtYVan5+UBA/Xj8x1Ok6jhbVsW2vXWWtLg58awA/kBT+/DZhmrf3QWlsLPALUAmPDmVHkZHTMSOKuMwO3Wb0wbytrdpU5nEhERCR6FVfW8eK8rQDcNDKX1IQ4hxM1Xtj3bBtjxhtjSoEK4MfAQ8GnBgCLD77OBk6YLQ0+frzvnWmM6WGM6eHz+UIXWqQRfnBGF3Iyk/Bb+N27q3VYUkRE5AT966stVNU1kOx1c3Nw8le0CXvZtta+bK1NA9oSKNorg0+lAKVHvLwEaMw2kruB9cD6wsLCk0wqcmLiPW4euKg3APM2F/P+qj0OJxIREYk+pdX1TJlTAMDEU3NJT/I6G+gEOTaNxFq7B3gaeNcYkwGUA2lHvCwdaMzfwz9KYFtKXnZ2dkhyipyIc3plc3r3LAD+8N5a3SwpIiLSSJNnF1Be6yMhzsWtp0fnqjY4P/rPAyQD7YDlwOCDT5jAZfcDg48fF2vtfmttvrU23+OJrpOqEluMMfz3xb1xuww7S6p56svNTkcSERGJGmU19Tz7VeD3zgnDc8hqEe9wohMXtrJtjHEZY+4yxmQHP+8APAYUAOsIrHKPM8acbYzxAvcBCcD0cGUUCaXurVOYOCIHCNx6VVhW43AiERGR6DB5dgFlNT7iPS5uP6OL03FOSrhXtscAq4wxlcB8oAo4x1rrs9Z+BdxJoHSXAlcDY6y1GucgUevec7qTmuChqq6Bv36U73QcERGRiFdeU8+zX20BAqva2SkJDic6OWEr29Zav7V2jLU221qbbK1tb62dYK3ddNhrnrfWdrHWJlprh1lrFx/rPUUiXXqSl3vO7g7Aq4u2s26P/uwoIiJyLFPmFFBaXU+8x8UPo3xVG5zfsy0S8yaemkOnjMAowD/OWOd0HBERkYhVXlPP07MCq9rjh3ciOzW6V7VBZVukycV73Pz8gp4AfJm/jy/y9zmcSEREJDIdXNX2elz88IyuTscJCZVtkTAY068NgzulA/Dn99fh9+uiGxERkcOV1dQfmt41flgnWsfAqjaobIuEhTGGX47pBcDa3WW8s2KXw4lEREQiy7++2kJZTWCu9p1nxsaqNqhsi4TNKbkZnN0zcNnS/32YT53P73AiERGRyFBaVc+zwb3aE0dE/wSSw6lsi4TRTy/IwxjYVlzFKwu3OR1HREQkIjzz1WbKa30kxrm5PUb2ah+ksi0SRj3bpDJ2YHsA/vnJBiprfQ4nEhERcdaByjqem10AwPUjo/u2yKNR2RYJs5+c2wOv20VRRR2T5xQ4HUdERMRRT3yxiYpaH8leN7d/L7ZWtUFlWyTsOmYkMX54JwCe/GITpdX1DicSERFxRmFZDVPmFgBwy2mdyUj2OpqnKahsizjgztFdSYhzUVbjO3QlrYiISHPz2Gcbqan3k5rg4ZbTo/+2yKNR2RZxQHZqAjecmgsERh0VV9Y5G0jkKIwx1xhjZhljyowx33rAwBhzhzHGGmMeCGc+EYluOw5U8fKCwLCA28/oSlpinMOJmobKtohDbj+jK8leNxW1Pp78cpPTcUSO5gAwCbj3215gjMkB7gNWhiuUiMSGf36ygfoGS1YLLzeNynU6TpNR2RZxSEayl5tP6wwErqfdV17rcCKRr7PWzrTWTgU2H+NlzwK/BorDk0pEYsGmfRW8vngHAHeM7kaS1+Nwoqajsi3ioFtP70JKgoeaej9PzzpWnxGJPMaY24FKa+2/T+I9Mo0xPYwxPXw+jcIUaS7++mE+fgvt0hKYEBwaEKtUtkUclJYYx02jAqvbL8zdSlGFVrclOhhjOgEPAHee5FvdDawH1hcWFp50LhGJfCt3lPLeyt0A3HtODxLi3A4naloq2yIOu2VUZ1LiPVTXN2h1W6LJM8DvrbU7T/J9HgXygLzs7OyTTyUiEe/hmesA6NoqmXGD2zucpumpbIs4LC0pjhuDB0NemLtVk0kkWpwL/NEYU2SMKQJGAb80xsxqzJtYa/dba/OttfkeT+zu2RSRgLmb9jNrQxEA952Xh8cd+1U09v8JRaLALad1pkW8h6o6rW5L5DDGuI0xCYA3+HlC8MMAHYEBwMDgxyLgMeBKp/KKSGSz1vK/HwRWtfu1T+PCvm0cThQeKtsiESA9ycsNI3MAeH5OASVVWt2WiDARqAZmAu7g96uBHGvtjsM/gFqgzFq717m4IhLJZq7ew7LtJQD87II8An9uj30q2yIR4pbTupAY56ayroHJcwqcjiOCtXaytdYc5aPgKK8dba39vQMxRSQK+Br8PPzBegBO757F6d1bOZwofFS2RSJERrKX8cHxR8/NLqCiVmPQREQkNry6aAebiyoB+PkFPR1OE14q2yIR5LbTu+B1uyitrufl+VudjiMiInLSqup8/P3jfAAuHdCOvu3THE4UXirbIhGkTVoCVwzpAMDTs7ZQU9/gcCIREZGT86+vtlBYXkuc23D/eXlOxwk7lW2RCHPHGV1xuwz7ymt5bdF2p+OIiIicsKKKWp74IjBla8LwHDplJjmcKPxUtkUiTKfMJC4d0A6Ap2ZtxtfgdziRiIjIifnHxxuoqPWREu/hnrO7Ox3HESrbIhHo9jO6ALC9uJoZq/Y4nEZERKTxNu2r4OUF2wC448yuZCR7HU7kDJVtkQjUs00qZ+YFxiI9+cUmrLUOJxIREWmchz9YR4Pf0i4tgZtHdXY6jmNUtkUi1A/P6ArA6l1lfLWxyOE0IiIix29hQTEzVwfuuLrvvDwS4twOJ3KOyrZIhBrWOYNBndIBeOKLTQ6nEREROT5+v+X3764BoHfbVC4f1N7hRM5S2RaJUMaYQ6vbszfuZ+WOUocTiYiIfLe3l+9iefD3rAcu6oXb1TyuZf82KtsiEezcXq3p0ioZCEwmERERiWQ19Q08/ME6AM7p1ZqR3bIcTuQ8lW2RCOZyGW49LTCZZMbK3ewsqXY4kYiIyLd79qst7CqtweMy/HJM87qW/duobItEuHGD25OZ7KXBb5k8e4vTcURERI6qsLyGSZ9tBOC6ETl0bdXC4USRQWVbJMIlxLm5bkQOAK8s2E55Tb3DiURERL7pLzPXU1nXQGqChx830wtsjkZlWyQKTDw1B6/HRXmtj38v1BXuIiISWVbtLOW1xTsAuPecHrRsphfYHI3KtkgUyGoRzxWDA6OTnptdQL2ucBcRkQhhreW376zGWujSKpmJp+Y4HSmiqGyLRIlbggcld5ZUM3O1rnAXEZHIMGPlHhYWHADgNxf1Js6tenk4/WyIRIlu2S0YHbzC/bnZBc6GERERAarrGvjjjLUAnNGjFWf2zHY4UeRR2RaJIjeP6gzA4q0HWLa9xOE0IiLS3D355SZ2llTjcRl+c3Evp+NEJJVtkShyevcsumUHRik9pzGAIiLioB0Hqnj8800A3DAyl27ZKQ4nikwq2yJRxBjDTaNyAXhvxW72lNY4G0hERJqtP85YS63PT1YLLz8+R6P+vo3KtkiUGTeoA2mJcfj8lhfmFTgdR0REmqE5m4qYsTJwWP+n5+eRmhDncKLIpbItEmUSvW7GD+8EwMvzt1FT3+BwIhERaU7qG/w89PZqAPq1T+OqIR0dThTZVLZFotDEETm4XYYDVfW8s3yX03FERKQZmTKngPy9FQD89rI+uFzG4USRTWVbJAq1S0/kvN6tAZgytwBrrbOBRESkWSgsr+HvH28A4OqhHRjcqaXDiSKfyrZIlLphZC4Aq3aWsWTbAWfDiIhIs/DnGeuoqPWRmuDhZxf0dDpOVFDZFolSwztnkNc6MGZpypytDqcREZFYt7CgmGlLdwJw33l5ZLWIdzhRdFDZFolSxphDq9szVu6msExjACW0jDHXGGNmGWPKjDG+I54bY4z51BhTZIw5EHzd6U5lFZGmVd/g564e1pkAACAASURBVIHpqwDo1TaVCcGD+vLdVLZFotjlg9qRmuDB57e8NH+b03Ek9hwAJgH3HuW5lsCjQDegFfAy8L4xRmMJRGLQlDkFrN9bDsDvL++Lx60Kebz0MyUSxZK8Hq4eGug2Uxdso77B73AiiSXW2pnW2qnA5qM895K1drq1tsRa67PWPg5UAKeEPaiINKk9pTX87aN8IHAockiODkU2hsq2SJS7bkQOAIXltXy0Zq/DaaS5Msb0A7KAlY38cZnGmB7GmB4+n++7f4CIhN3/vLeGyroG0pPi+MWFvZyOE3VUtkWiXG5WMt/r0QqAF+bqoKSEnzEmG3gD+Iu1dkMjf/jdwHpgfWFhYcizicjJ+SJ/H++t2A3Az87vSUay1+FE0UdlWyQGTAyubs/dvJ+NheUOp5HmxBjTDvgM+BD45Qm8xaNAHpCXnZ0dymgicpJq6hv4zZuBQ5GDOqVzzSk6knEiVLZFYsBZPbNpn54IwIvzdFBSwsMYkwvMAt631t5lT+B2JWvtfmttvrU23+PxhDqiiJyE//fpRrYVV+F2Gf44tp9uijxBKtsiMcDtMowPjmF6Y/EOKmu191VOnjHGbYxJALzBzxOCH8YY0xP4Cphqrb3f0aAiEnIbC8t58stNANxyWmd6tU11OFH0ClvZNsb8rzFmdXBe6y5jzNPGmIwjXnO9MWaTMabKGDPfGDMkXPlEot3VQzsS5zaU1/p4a9kup+NIbJgIVAMzAXfw+9VADvBzoD1wrzGm4rCPCY6lFZGQ8Pstv5q+ivoGS/v0RO49p7vTkaJaOFe2G4DrgExgANABmHzwSWPMacDjwB0E5re+AcwwxuiPUiLHoVVKPBf0bQvAS/O3cgJ/oy/yNdbaydZac5SPAmvtTcHvtzji4yWnc4vIyXlt8XYWbCkG4KFL+5Dk1RavkxG2sm2t/ZW1dqm1tt5auw/4BzD6sJfcBkyz1n5ora0FHgFqgbHhyigS7cYPC2wlWb2rjBU7Sh1OIyIi0WZfeS1/eG8tAGP6teHc3q0dThT9nNyzfTaw/LDPBwCLD34SPGizNPj4cdG8VmnuRnTJoEurZABe1o2SIiLSSL97dw1lNT5SEjw8dEkfp+PEBEfKtjHmCuCHwI8PezgFOHIprgRozDYSzWuVZs0Yc2h1++3luyirqXc4kYiIRIvP1hXyzvLAmZ9fXNiT7NQEhxPFhrCXbWPMVcDTwKXW2iWHPVUOpB3x8nSgrBFvr3mt0uxdOaQDXo+L6voG3ly60+k4IiISBSpqffx6euAC2KE5Lbn2lE4OJ4odYS3bxpibgCeBS6y1nx3x9HJg8GGvNcBAvr7V5Jg0r1UE0pO8XNwvcFDy5fnbdFBSRES+08MfrGNXaQ1et4s/X6GZ2qEUztF/9wB/Ac631s4+ykueBsYZY842xniB+4AEYHq4MorEioMzt9ftKWfJtgMOpxERkUi2qKCYF+ZtBeCus7rRLTvF4USxJZwr2/8gsP/6s8Nnsh580lr7FXAngdJdClwNjLHWNmYbiYgAQ3Ja0qN1CwCmLtjucBoREYlUNfUN/PyNFVgLPduk8MMzujodKeaEc/SfsdbGHTmT9YjXPG+t7WKtTbTWDrPWLv629xORb2eM4Zrgfrt3V+igpIiIHN2jn25g075KXAb+94r+eD26XDzU9DMqEqPGDW6P1+Oipt6vGyVFROQbVu4o5YkvNgOBK9kHdEx3OFFsUtkWiVHpSV4u7NsGgFcWaOa2iIj8R53Pz09fX06D39I5K5n7zstzOlLMUtkWiWEHt5Ks3lXGSt0oKSIiQZM+38i6PeWY4PaRhDi305Filsq2SAwb0SWDzlmBGyWnLtTqtoiIwJpdZTz22UYAbjg1l2GdMxxOFNtUtkViWOCgZEcA3l62i6o6n8OJRETESXU+P/e/tpz6BkvHjER+er62jzQ1lW2RGHfFkA54XIaKWh/vrdjtdBwREXHQY59tZM3uwFTlR64cQHK8LgFsairbIjEuq0U8Z/fKBuDVRZq5LSLSXK3aWXpo+8iNI3MZ0SXT4UTNg8q2SDPw/eBWkoUFB9i0r+I7Xi0iIrGm1tfAfa8ux+e35GYm8bMLtH0kXFS2RZqB73VvRevUeECr2yIizdFfP8pn/d7A9JFHrhpAklfbR8JFZVukGfC4XVw5pAMAbyzeSX2D3+FEIiISLgsLinnqy8DlNT84vQun5Gr6SDipbIs0E1cPDWwlKaqo5dN1hQ6nERGRcKis9XHfq8uxFnq0bsFPzu3hdKRmR2VbpJnIyUxmRJfAasarC7WVRESkOfj9e2vZVlyFx2X469UDdXmNA1S2RZqRgwclP8/fR2F5jcNpRESkKX28Zi9TFwQuNPvx2d3p2z7N4UTNk8q2SDNyQZ+2pMR7aPBbpi/Z6XQcERFpIkUVtfxi2goABndK547RXR1O1HydUNk2xrQyxpxnjPm5MebfoQ4lIk0j0evm4gHtgMBUEmutw4mkKRhjrjfGXOR0DhFxhrWWX7yxgqKKOpK9bv72/YF43Fpfdcp3/swbY3KMMZcbY35rjHnHGLMD2AN8APwM6NDUIUUkdK4aGvhfdtO+SpZuL3E4jTSRXwPeIx80xpxmjNHpKJEY98rC7Xy8NnAQ/r8v6U1OZrLDiZq3Y5ZtY8x+YDPwAnA+gZL9CGCBU621mdbaUU2eUkRCZlDHdLpltwDgtUU7HE4jTSQHWHqUxzsBT4U5i4iE0aZ9FfzunTUAnNu79aFJVOKc71rZdgN/ANKstSOstbdZa/9BoGyXN3k6EQk5YwxXBWduv7N8F9V1DQ4nkiawD2h/lMcXAAPDnEVEwqTO5+fHryylur6B7JR4/veK/hhjnI7V7H1X2e4FdAMWGGO+F4Y8IhIGYwe3x+0yVNT6+GD1bqfjSOi9Bzxgvvm7bIITYUQkPP76UT6rdpYB8H9XDyAj+Ru7ycQBxyzb1trd1trxwE+BScaYacaY7uGJJiJNJTslgdE9WgHw+mJtJYlB/w30BD4J7tP2GGMygQc5+vYSEYlyszcW8eSXmwC47fTOnN69lcOJ5KDjOppqrf2MwF89zgXmBX9cfBPmEpEmdvCg5JxN+9lxoMrhNBJK1tpCYARwAPgCqAUKgTMIHGw/LsaYa4wxs4wxZcYY31Gev8AYs9oYU22MWWWMOS9E/wgi0gj7K2r5yb+XYS30bpvK/efnOR1JDnPcc2CstT5r7SNAf+B1AismvzbG6IirSBQ6q2drWibFYS2auR2DrLV7rbVXENi7fTGBQ+7drbULG/E2B4BJwL1HPmGM6QJMA/4EpAW/nW6MyT255CLSGNZa7n9tOYXltSTGuXl0/CDiPbolMpI0euiitXantfb7wFXABGBLyFOJSJPzelxcGpy5/caSHZq5HaOstXuste9baz+21pY28sfOtNZOJTCV6kg3AIuttS9aa+ustS8BS4KPi0iY/Gt2AZ+t3wfAby/rQ9dWLRxOJEc64Qnn1tpPCKxy/yV0cUQknK4cEhgJVbC/isVbDzicRqLMAGDxEY8tCT5+3IwxmcaYHsaYHj7fN3aqiMgxrNhRwp/fXwvApQPaHZo0JZHlpK4TCm4teThUYUQkvPq2TyWvdQqgg5LSaCnAkSvlJUBqI9/nbmA9sL6wsDAUuUSahbKaeu56eSn1DZZOGUn8fmxfjfmLULq7U6QZM8ZwZXAl5N0VuzVzWxqjnMBe7cOlA2WNfJ9HgTwgLzs7OxS5RGKetZZfTlvJtuIq4tyG/zd+EKkJcU7Hkm+hsi3SzF02qN2hmdszV+9xOo5Ej+XA4CMeGxR8/LhZa/dba/Ottfkejydk4URi2csLtvHeisAdCb+8sBf9O6Q7nEiORWVbpJnLTkngjODM7TeWaCuJ/Icxxm2MSQC8wc8Tgh8GeB4Yaoy51hgTZ4y5FhgCTHEwskjMW7WzlN8Gr2M/p1drbhqV62wg+U4q2yLCuMGBm71nbyxiT2mNw2kkgkwEqoGZgDv4/Wogx1q7CRgHPEBg68gDwFhrbYEzUUViX1lNPT96eQl1Pj/t0xP5y1W6jj0aqGyLCOf0ak1Kgge/hTeXaea2BFhrJ1trzVE+CoLPf2Ct7WOtTQx++6HDkUVilrWWn7++gq37A/u0H5swmPQkXcceDVS2RYSEODcX9w/O3F6smdsiIpHmudkFvL8qcK7m12N6MbCj9mlHC5VtEQHgiuBWkg2FFaze1diBEiIi0lQWby3mjzMC87TH9GvDDSNznQ0kjaKyLSIADMlpSU5mEqCZ2yIikaKoopY7X1qCz2/pkpXM/16hfdrRRmVbRIDAzO1xgwIzt99evov6Br/DiUREmjdfg597pi5lb1ktiXFuHr9uCCmapx11VLZF5JCDU0mKK+v4Yv0+h9OIiDRvf/kwnzmb9gPwp3H9yGuT4nAiOREq2yJySMeMJIblZgAwfammkoiIOOX9lbt54otNAFx/ag6XD2rvcCI5USrbIvI1B1e3P1q7l9LqeofTiIg0Pxv2lnP/a4HLWIfktOSBi3o7nEhOhsq2iHzNhf3a4vW4qPP5mbFyt9NxRESalbKaem5/YTGVdQ20Soln0oTBeD2qa9FM//ZE5GvSEuM4t3drAKbp+nYRkbDx+y33vrKMzUWVeFyGSRMG0zo1welYcpJUtkXkG8YF9wYuLDjAtv1VDqcREWke/vZxPp+uKwTgwUv7cErwDI1EN5VtEfmG7/VoRWZy4BpgHZQUEWl6H6zazaOfbgTgmlM6ct3wTg4nklBR2RaRb4hzu7hkQOD69ulLdX27iEhTWru7jP96NXAgclCndH57WR9dXBNDVLZF5KgOTiUp2F/F0u0lDqcREYlN+ytquXXKIqrqGmidGs8T1w0h3uN2OpaEkMq2iBxVv/ZpdG2VDMCb2koiIhJydT4/d7y0hJ0l1Xg9Lp6aOFQHImOQyraIHJUxhrHBg5LvLN9FnU/Xt4uIhIq1lgffXsWCLcUAPHxFfwZ0THc4lTQFlW0R+VaXDQyU7QNV9XyRr+vbRURC5V+zC5i6YDsAPzyjq26IjGEq2yLyrQ6/vl1bSUREQuOzdYX84b01AJzbuzU/Oz/P4UTSlFS2ReSYxur6dhGRkFm/p5y7py7Fb6FX21T+/v2BuFyaPBLLVLZF5JjG9GuL1x24vv19Xd8uInLCCstruHnyQipqfWS18PLMDUNJjvc4HUuamMq2iBxTWmIcZ/fKBnTBjYjIiaqua+C25xezs6SaeI+Lp68fSvv0RKdjSRiobIvIdzo4lWT+lmJ2llQ7nEZEJLr4/Zb7XlvG8uCdBX/7/kAGdWrpcCoJF5VtEflOo/OySU+KA+CtZVrdFhFpjD9/sI4ZK/cA8PMLejKmX1uHE0k4qWyLyHfyelxcFPzNYfqSnbq+XUTkOL0wt4CnvtwMwDWndOSHZ3RxNpCEncq2iByXg1tJNhRWsGZ3mcNpREQi38dr9vLg26sB+F6PVvzP5X0xRpNHmhuVbRE5LkNyWtKhZeAwj2Zui4gc27LtJV8b8TdpwmDi3KpdzZH+rYvIcTn8+va3lu2iwa+tJCIiR1NQVMnNkxdSXd9A27QEnrvxFFpoxF+zFdaybYy5xhgzyxhTZozxHeX5C4wxq40x1caYVcaY88KZT0SO7eD17YXltczZVORwGhGRyFNUUcsNzy2guLKO1AQPU24eRpu0BKdjiYPCvbJ9AJgE3HvkE8aYLsA04E9AWvDb6caY3DDmE5Fj6Jbdgv4d0gB4c+kuh9OIiESWilofN09eyNb9VXjdgVnaPVqnOB1LHBbWsm2tnWmtnQpsPsrTNwCLrbUvWmvrrLUvAUuCj4tIhDi4uj1z9R6q6xocTiNOM8a0Mcb82xizzxhzwBjzqTFmgNO5RMKtzufnhy8sZsWOUowJzNIe3iXT6VgSASJpz/YAYPERjy0JPn5cjDGZxpgexpgePt83dqmISAhcMqAtLhNYwfl47V6n44jzJgEZQA+gNbAIeNdo5II0I4FLa5bz1cbA9rrfXdqHi/prlrYERFLZTgFKj3isBEhtxHvcDawH1hcWFoYql4gcJjslgdO6twI0lUQA6Aa8Zq09YK2tA54FOgDHtaSnRRKJdtZafvvOat5ZHthad89Z3Zh4aq6zoSSiRFLZLiewV/tw6UBjBvo+CuQBednZ2aHKJSJHGDuoHQBf5O9jf0Wtw2nEYY8AVxhjWhljEoAfAF9Za4/3BK0WSSSq/f3jDUyZuxWAa4d15Cfn9nA4kUSaSCrby4HBRzw2KPj4cbHW7rfW5ltr8z0ejdgRaSrn9W5DYpwbn9/y3srdTscRZ80G3EAhUAGMA25rxI/XIolErcmzt/CPTzYAMKZfG35/eT9dWiPfEO7Rf+7gyoc3+HlC8MMAzwNDjTHXGmPijDHXAkOAKeHMKCLfLTnew3l9WgMwXVtJmi1jjAv4GMgn8DeTScAfgFnGmNbH8x5aJJFo9friHTz0zhoATu+exd++PxC3S0VbvincK9sTgWpgJoGVkOrgR461dhOBFZEHCGwdeQAYa60tCHNGETkOlwcvuFm6rYSCokqH04hDMoDOwKPW2rLgJKlnCPzecqqz0USazvsrd/Oz1wN/8T6wYzpPXDeEeI/b4VQSqcI9+m+ytdYc5aMg+PwH1to+1trE4LcfhjOfiBy/07tlkdXCCwRulJTmJ7gvOx+40xiTbIzxGGNuJnDgfYWz6USaxhf5+7jnlcA17D3bpDDlpmEk63ZIOYZI2rMtIlHE43Zxcf/AQck3l+3EWl3f3kxdTmB1eyuwH/gRcJW19mj3KYhEtXmb93P7C4uob7B0zkrmhVuGk5YU53QsiXAq2yJywg5uJdlSVMnyHUdO7pTmwFq71lp7sbU2y1qbZq0dYq19y+lcIqG2eOsBbp68kJp6P+3TE3nx1uG0Sol3OpZEAZVtETlhAzqk0TkrGdDMbRGJXat2lnLjcwuoqmugdWo8L982nPbpiU7Hkiihsi0iJ8wYw+XB69vfWb6L+ga/w4lEREJrza4yrnt2PuU1PjKTvbx06whyMpOdjiVRRGVbRE7K5cELbvZX1h26qlhEJBas31POdc/Op6SqnvSkOF68dTjdsls4HUuijMq2iJyUnMxkBndKB7SVRERix4a95Ux4Zh7FlXWkJnh48Zbh9Gqb6nQsiUIq2yJy0sYGD0p+uHovlbU+h9OIiJycDXvLufbpeRRV1JGS4OHFW4fTt32a07EkSqlsi8hJu6h/OzwuQ3V9AzNX73E6jojICTuyaL9wy3D6d0h3OpZEMZVtETlpGcleRue1AnR9u4hEr/V7vlm0B3ZU0ZaTo7ItIiFxcOb27I1FFJbVOJxGRKRxVu8q5Zqn5qpoS8ipbItISJzTqzUt4j34Lby9XNe3i0j0WLmjlPFPz+dAVT1piXG8dKuKtoSOyraIhERCnJsL+7YBAte3i4hEg8VbDzD+mXmUVtfTMimOl2/THm0JLZVtEQmZg1NJVu0sY8PecofTiIgc25xNRUwMXliT1cLL1B+MoE87TR2R0FLZFpGQGd4lkzapCYAOSopIZPtsfSE3Pbfw0BXsr/zgVHq20RxtCT2VbREJGbfLcNnAwI2Sby3bhd9vHU4kIvJN763YzQ+eX0Stz0+Hlom8dvtI3QwpTUZlW0RC6uBUkp0l1SwoKHY4jYjI1726cDt3T11CfYOlS6tkXr39VDplJjkdS2KYyraIhFSvtqn0bJMCwPQl2koiIpHjmVmb+dkbK/Bb6N02lVdvP5V26YlOx5IYp7ItIiE3bnBgdXvGyt3U1Dc4nEZEmjtrLQ9/sI7fv7cWgCE5LZn6gxFktYh3OJk0ByrbIhJylw1sj8tAea2PT9YWOh1HRJqxBr/lV9NXMunzTQCMzmvFC7cMIy0xzuFk0lyobItIyLVOTWBUtywApi/d4XAaEWmuauobuOPFxUxdsB2Aywa24+nrh5Lk9TicTJoTlW0RaRKXDwxsJfl8/T72V9Q6nEZEmpvSqnquf3YBH67ZC8CNI3P529UDiXOr+kh46b84EWkSF/RtQ2KcG5/f8u6K3U7HEZFmZFdJNVc/OffQRKSfnp/Hg5f0xuUyDieT5khlW0SaRHK8hwuC17dP0wU3IhIm6/aUMW7SHNbvLcftMjx8ZX9+dGY3jFHRFmeobItIkzk4lWT59hI2FlY4nEZEYt2cjUVc9fhc9pTVkBjn5pnrh3L10I5Ox5JmTmVbRJrMyK5ZtE4NjNbSQUkRaUpvLN7BDc8toLzWR1YLL/++fQRn9sx2OpaIyraINB23yxy6UXL6kp26vl1EQs5ay98/zue+15YHboXMSmbaHaPo3yHd6WgigMq2iDSxcYM6ALCrtIZ5W/Y7nEZEYkmtr4H7Xl3O3z/eAMCw3Aym3TlS169LRFHZFpEmldcmhb7tUwGYpuvbRSREiivrmPjMgkMHsC8d0I4Xbh1GepLX4WQiX6eyLSJN7uDq9vsrd1NV53M4jYhEu42FFYybNPvQaL97zu7OP64ZSLzH7XAykW9S2RaRJnfpwHa4XYbKugZmrt7jdBwJMWPMOcaYecaYCmNMkTFmktOZJHZ9mb+PsZNmU7C/Cq/bxd++P4D/OreHRvtJxFLZFpEml9UintE9WgHwxmJtJYklxpjRwOvAX4BMoAPwjJOZJDZZa5k8ews3PreA8hofmcleXrptOGODf3MmEqlUtkUkLK4cEvgNcfamInaVVDucRkLoT8AT1trXrbW11toaa+0Sp0NJbKnz+fnltJU89M4a/BZ6tknhzR+N4pTcDKejiXwnlW0RCYuzemWTlhiHtTBdN0rGBGNMMjAM8BhjlgS3kHxujBnaiPfINMb0MMb08Pm0n1++aV95LeOfnscrC7cDcE6vbF6/YyQdMzRxRKKDyraIhEW8x81lA9sB8PriHVirmdsxoCWB30euBW4E2gEfAjOMMcc75PhuYD2wvrCwsCkyShRbsaOES//fVyzaegCAu87sxlMTh9Ii3uNwMpHjp7ItImFzxeDAVpItRZUs2XbA4TQSAuXBb5+z1q6w1tYR2FYSB4w8zvd4FMgD8rKzdduf/Mfri3dw5RNz2V1aQ0Kci0evHcT95+fhcukgpEQXlW0RCZv+HdLont0CgNd1UDLqWWtLgQLgyL+msEd57NveY7+1Nt9am+/xaLVSAvuzH3xrFfe/tpw6n5/26Ym8ccdILhnQzuloIidEZVtEwsYYwxXBg5LvLt9FTX2Dw4kkBCYBNxljehtjPMBPgVpgjrOxJBrtLavh2qfnMWXuVgBGdcvknbtPo0+7NIeTiZw4lW0RCatxg9rjdhnKa32auR0b/gL8C/gUKAIuBC4MrnqLHLf5m/dz8aNfsTi4P/v2M7ow5aZhZCTrRkiJbirbIhJW2akJnBGcuf3qou0Op5GTZQP+21rbxlqbbq0901q7zOlcEj2stTz5xSbGPzOffeW1JHvdPD5hML+8sBcet2qKRD/9VywiYXf10ODM7Y372V5c5XAaEXFKaXU9t7+wmD+9v44Gv6VbdgveumsUF/Zr63Q0kZBR2RaRsDurZ+tDfzX8xpIdDqcRESes2FHCRf+cxYdr9gJw2cB2vPWjUXTLTnE4mUhoqWyLSNh5PS4uH9gegNcW7cDv18xtkebi4LXrVz4+lx0HqvG6XfzPZX34+/cHkqz52RKDVLZFxBFXnxLYSrKzpJp5m/c7nEZEwqG0KrBt5KF31lDX4KdTRhJv3DGSiafmYozmZ0tsUtkWEUf0bJNKv/aBcV46KCkS+xZvLWbMYdtGLuzbhnfuPo1+HTTWT2KbyraIOObgQcn3V+2htKre4TQi0hQa/JZHP9nA1U/OY2dJNV6Pi/+5vC+TJgwmLTHO6XgiTU5lW0Qcc+nA9iTEuaj1+XlzmW6UFIk1u0urGf/0PP7vo3wa/JaurZJ5885RTByRo20j0myobIuIY9IS/397dx4fZXnuf/xzZSdhDRAghISEsEgVwmoERHGXVrB1KRatWpejdftZrafH39LT4zmn2nraWq1o7VH7c6l1o1pUqogogiyyBZSAhiUkIYQAWUhIQpL7/DFDGiiICUyeeSbf9+s1rzDPM8t1hZl7rtxzL7FMDy7x9acVhTiniZIikeKtvJ1c+OuPWL51LwBXTRzEX++YwsjU7h5HJtKxVGyLiKdmTUgHIL+0mrwibToo4nfVdQe595V13PbiaqrqGumeEMPvvjeWn39nFIlxWm1EOh+96kXEUxMG9yKrbxJbdtfw0spCRg/q6XVIItJOK7ft5e4/r6Vo3wEAcrOS+dWVOaT27OJxZCLeUc+2iHjKzJg1YRAAb64toaa+0eOIRKSt6hubeGh+Plc+GVg7Ozba+MnFI3jhxlwV2tLpqdgWEc99Z2wasdFGTUMT8/JKvA5HRNrg85IqZj62hDmLCnAOhvfrxhu3TeGWs4YQHaVJkCIqtkXEc326xnP+yH4AvLi80ONoROTraGxq5rGFXzDzdx+TX1qNGdx0ZiZv3D5ZkyBFWtGYbREJC7NPz+Dt9aWsK6pkfVGlNroQCWObSqu595V1rC8OTGoelNyF/7oih4mZyR5HJhJ+1LMtImHhjKzeZPZJAuDFFds9jkZEjuZgsDf7kkc/bim0r85NZ/5dU1VoixyDim0RCQtRUcb3JgaWAXxjbQlVddpRUiScfFZSyczHlvDwu5tpaGpmYM8uvHDj6fz7paeRFK8vykWOJayKbTOLNrNfmtluM6s2s9fMrI/XcYlIx7h8XBpxMVHUNjTxxhrtKCkSDuoONvGL+fnMeGwJn++sAuCa3Az+dvdUJmfrI1rkeMKq2AZ+AswETgfSgsee8y4cEelIvZLi+FZwR8nnl2lHSRGvLduyh4sfWczjiwpoanZk9E7kpZtzeeDSU+mq3myRryXciu2bgYecc1ucc5XAfcBFZpbhcVwiCxqAIwAAFrRJREFU0kFm5waGkmzaVc2n2/d5HM2Jmb9hJ6WVdV6HIdJmFbUN3PfqOmb9fhlby2uIMvinqVnMv2squVm9vQ5PxFfC5s9SM+sJpAOrDh1zzhWYWRUwGjjujCkz6w30Bhg9enSIIhWRUBqb3osR/buRX1rNH5duY8Jgf066Kqk4wC3PrwZg7g8nMSa9l8cRiRyfc44315XwwLzPKd/fAMDIAd35xeWjOHWgVggSaY9w6tnuFvxZecTxCuDrLth5B7AJ2FRWVnay4hKRDmRmXDdpMADzN5Syq8qfPcOfFOwBICE2SmsOiy9s2b2fq/97OXe9tJby/Q10iY3m/ukjePP2ySq0RU5AOBXb1cGfR76jewJVX/MxHgWGA8NTUlJOVlwi0sFm5gykR5dYGpsdLyzz5zKAn2wJFNvjM5KJj4n2OBqRY6s72MSv3tvMRb9ZzJIvA6/bacP78u7dU7l56hBiosOpVBDxn7B5BznnKoBCYOyhY2aWRaBXO+9rPsYe59xm59zmmJiwGSEjIm3UJS6a704YBMCLKwqpb2zyOKK2WxYsts8YovGtEr7e37iL83/9Ib99/wsamprp1z2eObPH8vR1ExiUnOh1eCIRIWyK7aDfA/9sZplm1h14CPibc26bt2GJSEe7JjcDMyjf38Db63d6HU6b7NhbS9G+AwCaTCZhafueGm54diU3/PFTduw9QHSUceOUTBb86CwuPm0AZuZ1iCIRI9y6fx8EegErgXjgPeBqTyMSEU8MSk7k3BH9WLBxF88u3c63x6Qd/05h4tAQksS4aEZp23kJI7UNjcxZVMCTH22hobEZgImDk/m3S7/BiP6aWyASCmFVbDvnmoB7gxcR6eSumzSYBRt3sW5HBau272Nchj9W9FgWnBw5fnAysRrvKmHg0CojD76Tz87gcpQp3eK5f/opzMxJVU+2SAiFVbEtItLa5OzeLcsA/mHxFsZljPM6pONyzrX0bJ+hISQSBvKKKnhg3ues3BZYtz422rh+ciZ3nJNNt4RYj6MTiXwqtkUkbJkZN0zJ5Mev5jH/s1K276kho3eS12F9pcK9tS09h5ocKV4qrazjl3/bxGuri1qOTRvel//7rZFk9e3qYWQinYu+3xSRsDYjJ5W+3eJxDp7+eKvX4RzXofW1u8bHcGonWV/bzKLMbKmZOTPzz+D6CFVT38iv3tvMtIcXtRTaQ/om8cx1E3jm+okqtEU6mIptEQlr8THRLZvcvPxpERW1Dd4GdByHhpBMGNyrM61PfDdQ63UQnV1jUzMvrShk2sOL+O37X3DgYBM9E2P510tGMv9/TWXaCO0/IeIFDSMRkbA3+/R0Hlv4JQcONvHC8kJum5btdUhH5Zxr6dnuLENIzGwY8EPgMmCNx+F0Ss453t9YxkPz8/mibD8AcdFRXDspg9unDaVHosZli3hJxbaIhL2eiXFcOT6NP36ynWeWbOOGKZkkxIbfrozriyspq64HYEp2X4+jCT0ziwKeJrCCVEU7H6M30Btg9OjRJy+4TmLV9r08+E5+y+RHgEtGp/LjC4aT3lub0oiEAxXbIuILN56ZxfPLCynfX8/Ln+7g+2cM9jqkf/De57sAGNizC6cM6OZxNB3iLqDUOTfXzAa38zHuAH4KUFZWdpLCinybSqt5+N1NLa85gImZydw//RRyBvX0MDIROZKKbRHxhUHJiczMSeX11cU8+eEWrpqYHnZrWB8qfM4f2S/i1y02s2zgHmD8CT7Uo8CLACkpKZtONK5IV7inlt8s2MzctcU4Fzg2on83/vmiEZw9vG/Ev+5E/EjFtoj4xg/PzmbummKKKw4wd00xV44f5HVILXbsrSW/tBqAC0b28ziaDjEF6AtsCBZ4h/7yyTOz/+Oce/zrPIhzbg+wB2D8+BOt2yNXScUBHl34Ja98uoPG5kCVPSi5C3efN4yZOQOJjlKRLRKuVGyLiG9kp3Tl4lP78/b6UuYsKuCysWlhU2S8G+zV7p4Qw4TMZI+j6RAvAwtaXU8DPgEuAPI9iSgC7aqqY86iAl5cUdiyvXrfbvHceU42352QTlxMeH27IyL/SMW2iPjKbdOyeXt9KVvLa3hr/U5mjE71OiQA3vu8FIBzRqSE3fCWUHDO1dJquT8zO/R5Uuqc2+9NVJGjrKqOOR8W8OLyQuqDRXZyUhy3njWEq3Mz6BIXfhOEReToVGyLiK98I7UH54xIYWF+GY8s2Mz0U/t7vp51RW1Dy2oQ54/s72ksXnHObQPC42sGHyutrOOJDw/vye7RJZabp2Zx7aTBdI3Xx7aI3+hdKyK+c/d5w1iYX0bB7hrmrinmCo/Hbi/ML6Op2REXHcVZwyN/yT85+Yr21fLEhwW8vLKIhqa/F9k3TMnk+smD6ZagtbJF/ErFtoj4zmlpPZh+WmDs9m8WfMGMnFTiY7z7Wn3+hsAQkjOG9FbPo7RJwe79PLGogLlrilsmPvZMjOXGKZlcO0lFtkgk0KeCiPjSj84fzvwNpRRXHOClFTu4Nrile0cr31/PwvzA+tDfPG2AJzGI/2wormTOogLe3rCzZQm/Pl3juOnMLGbnZuiPNpEIoneziPhSdkpXLhubxiurinh04ZdcMT6NxLiOb9Lmrg70SCbFRfPNUSq25diccywt2MOcRQV8/GV5y/HUHgncNDWLWRPSNfFRJAKp2BYR37rrvKH8ZW0x5fvreeLDLfzo/GEd+vzOOV5aWQgEtshOUm+kHEVjUzNvrd/JU4u3sKG4quV4Vt8kbpk6hEvHDNQSfiIRTJ8MIuJbab0SuW7SYJ5avJUnPyzgyvFppPVK7LDnX124j4LdNQBcOSF8NtiR8LC/vpGXVhTyzJJtFFccaDk+Oq0Ht56dzQUj+xEVJuvEi0joqNgWEV+749yhzF1TTPn+Bv7z7Y08Pntchz33n1fuAGBoSlfGDOrZYc8r4a1oXy3//5Pt/Gl5IdX1jS3HzxmRws1Tszg9M1nbqot0Iiq2RcTXuifEct+FI7jvtTzeXl/K0oJyJg3pE/Ln3V/fyLy8nQB8d8IgFU+dnHOOVdv38fSSrczfUEpwYRHiYqL4ds5Abjgzk2H9unkbpIh4QsW2iPje5ePSeH75dvKKKvnZm58z784pId/F8Y21xdQ2NBEbbXx7zMCQPpeEr7qDTczL28mzS7ceNh67d1Ics3MzuCY3g77d4j2MUES8pmJbRHwvKsr46SXf4LI5S9m0q5onFhVwx7lDQ/Z8DY3NzFlUAMBFpw6gd1cVU51NccUBXli2nZdW7mBvTUPL8RH9u/GDyZnMyEklIVYri4iIim0RiRDjMnpxdW46zy8r5LcLv+C8kf04ZUD3kDzXq6uKKNp3ADO485zskDyHhJ/mZsfHX5bz3LLtvL9xV8tQkSiD80f24/rJmRqPLSL/QMW2iESMf7n4FBZt2k3RvgPc+8o6/nLb5JM+nKS+sYnfffAlAJeMSmWoxuFGvL01Dby6agcvLi9k257aluPJSXHMmjCI2bkZDOzZxcMIRSScqdgWkYiRFB/DLy4fxfeeWs5nJVU8/kEBd513coeTvPxpEcUVB4gyuDOEQ1XEW845lm3Zy59WFDJ/QykNTc0t58ak9+Sa3AymnzZAQ0VE5LhUbItIRJk0pA/X5Gbw3LLtPPL+ZsZl9GLK0JOzOkndwSYeD/ZqzxidSnZK15PyuBI+dlfX89rqIv68cgdby2tajifGRTMzZyCzT0/n1IE9PIxQRPxGxbaIRJx/mT6Cldv2kl9aze1/Ws1fb5/CoOQT3+zmv97dxM7KOvVqR5jGpmY+3Lyblz/dwfsby2g8NBgbOHVgd2ZNSGdmTirdEmI9jFJE/ErFtohEnMS4GJ68ZhwzHltCRe1Bbn5uFa/fOokuce3/yn9pQTl/+HgrADdNzSKrr3q1/e6LXdW8urqI11cXs7u6vuV4t/gYZuSkMmtCOqelqRdbRE6Mim0RiUgZvZP47VVjuO6ZFWzcWcVtL67m8dlj2zXGtvLAQe59eR3OwcgB3fnR+cNCELF0hH01Dfw1r4TXVhWxrqjysHMTM5O5Ylwa3xw1gMQ4fTyKyMmh1kREItZZw/ryk4tG8PN38lmYX8bNz63i99eMa1PB3dzsuH/uekoq64iLieI3s3KIj9GkOD+pb2zig/wy5q4pZmF+GQeb/j5MZECPBL49ZiBXjB9EZp8kD6MUkUilYltEIto/nTWE+sZmfvXeZj7avJsfPLuSJ64ZR/evMf62obGZe15Zx1vBbdl/ctEIbbntE83NjhXb9vLG2mLeyttJVV1jy7mE2Cgu/EZ/Lh+XxqQhfYiO0rrYIhI6KrZFJOLdee5QYqOjeGh+PksL9nDhrz/iwctGcdawvse8T21DI7c+v5oPN+8GYPbp6Vw3aXAHRSzt4ZxjQ3EVf80r4c21JZRW1bWcM4PczN58Z+xALj5tAF3j9fEnIh1DrY2IdAq3nj2ErgkxPDDvc3ZW1nHt0yu4NCeVK8cPYmJmMjHBzW/21zfy0opC/vvjreysDBRrt0/L5p4LhmlnwDC1qbSaeXklzMvbedhyfRDYPn1mzkBm5qSSqo1nRMQDKrZFpNO4JjeDM7KSueeVPNbtqOAva0v4y9oSkpPiSO2ZQE19E7uq6qhtaAIC23DfP/0Ubjwzy+PI5Wh+/1EBr3xaxBdl+w87np6cyLdGDWBmzkCG99ewHxHxloptEelUslO68dotZ/Dcsu28/GkRG3dWsbemgb01DS23iYuO4rJxA7npTC3xF87W7ahsKbT7d09g+mkDmJGTyui0HvoWQkTChoptEel0YqKjuH5yJtdPzmRreQ3vb9xF3cEmkuJj6JYQy9ShfUjpnuB1mHIcV4xPo0/XOL41OpVx6b2I0kRHEQlDKrZFpFPL7JOkYSI+dfbwFM4enuJ1GCIiXynK6wBERERERCKVim0RERERkRBRsS0iIu1iZg+Z2WdmVmVmJWb2lJklex2XiEg4UbEtIiLt1QRcDfQGRgNpwLNeBiQiEm40QVJERNrFOXd/q6u7zewR4GWv4hERCUfq2RYRkZPlXGBdW+5gZr3NbJiZDWtsbAxRWCIi3lGxLSIiJ8zMLgNuAe5q413vADYBm8rKyk56XCIiXlOxLSIiJ8TMrgCeAmY451a38e6PAsOB4SkpWjNbRCKPim0REWk3M7seeBK4xDn3QVvv75zb45zb7JzbHBOjaUQiEnlUbIuISLuY2Z3Aw8CFzrklXscjIhKO1I0gIiLt9QjQCHxgZi0HnXNdPYtIRCTMqNgWEZF2cc7Z8W8lItK5mXPO6xhCwsx2A9vbeLdooB+wi8BmDZEmkvNTbv4VyfmdSG4Zzrm+Jz+k8NWOdjuSXzsQ2flFcm4Q2fkpt6M7ZpsdscV2e5jZMAJLUA13zm32Op6TLZLzU27+Fcn5RXJu4SDSf7+RnF8k5waRnZ9yaztNkBQRERERCREV2yIiIiIiIaJi+3B7gJ8Ff0aiSM5PuflXJOcXybmFg0j//UZyfpGcG0R2fsqtjTRmW0REREQkRNSzLSIiIiISIiq2RURERERCRMW2iIiIiEiIqNgWEREREQkRFdsiIiIiIiGiYltEREREJERUbIuIiIiIhIiKbRERERGREFGxHWRm0Wb2SzPbbWbVZvaamfXxOq62MrOHzOwzM6sysxIze8rMko+4zffNrMDMas1suZmN8yre9jKzKDNbambOzNJaHY+E3M4zs2Vmtt/Mys3s8VbnfJufmfU3sz8H32P7zGyhmY1udd43uZnZLDNbHHyfNR7l/EXB9+EBM9tgZhcccT7bzBaYWY2ZFZnZPR0XfWSIlDYb1G77PTe12eGfm+dttnNOl8Aumv8b2AxkAT2A14B3vI6rHXn8JzAGiAX6Au8Ab7Y6PwWoAS4A4oH7gF1Ad69jb2Oe9wALAAekRUpuwNlABXB5MIcEYGwk5Ae8DrwH9ALigF8AOwDzW27AhcBVwA+AxiPOZQG1wNXBPGcHcxscPB8NbAQeBRKBsUAZ8F2v8/LTJVLa7GAuard9mpvabH/k5nWb7fkvIFwuwHbghlbXhwQbhAyvYzvBvC4Cqlpd/yPwXKvrBhQC13odaxtyGgYUADlHNNqRkNsnwIPHOOfr/IA84OZW14cH///6+DW34AftkQ33z4DFRxxbDPw0+O9pwYa9a6vzDwAfeJ2Pny6R2mYHc1G77ZPc1Gb7Kzev2mwNIwHMrCeQDqw6dMw5VwBUAaOPdT+fOBdY1+r6aA7P0wFr8EmeZhYFPA3cS6A3oTW/55YETARizGx18OvIRWY2PngTX+cH/BK4zMz6mlkCcDPwsXOuHP/n1tphuQSt5u+5jAY2O+f2H+O8HEeEt9mgdtsXuanN9nVurYW8zVaxHdAt+LPyiOMVQPcOjuWkMbPLgFuAu1od7oa/87wLKHXOzT3KOb/n1ovAe/Iq4DogFXgXeDtYXPg9vyUEvo4rA/YD3wFuCp7ze26tHS+XSMrVKxHZZoPa7SC/5KY2+3B+yq21kLfZKrYDqoM/exxxvCeBnhLfMbMrgKeAGc651a1OVePTPM0sm8CYv9uPcRPf5hZ06HX4jHMuzznXAPycwDjOSfg4v2DP1gICY2x7EBj39h/AYjPrh49zO4rj5RJJuXol4tpsULvdii9yQ222L3M7ipC32Sq2AedcBYGxRmMPHTOzLAJ/teR5FVd7mdn1wJPAJc65D444vY7D8zQCY+jWEf6mEJg8tMHMygl8jQOQZ2Y/xN+54ZyrBLYRGBN32Kngxc/5JQOZwKPOuSrnXINz7g8E2qAz8HduRzosl6Ax/D2XdcCw4FfQRzsvxxFpbTao3T50Yz/lpjbbt7kdKfRttteD1cPlQmBm+yYCL67uwCvAfK/jakcedwJ7gAnHOD+FwNdB5xKYdXsvYTyD+IjYE4G0VpdcAg3aeKCrn3NrleOPgSJgJBBDYIb3TgJ/Vfs6v+D761EgKZjbD4AGAjPBfZUbga9WEwjMxG8M/juBwCShIQQm01xFoIfrKo4+s/0RoAuBD6hdwCyv8/LTJVLa7GAuard9mFswP7XZPsjN6zbb819AuFyCv8yHgXICXxm8DvTxOq525OGAg8E3QcvliNt8H9gCHABWAOO8jruduQ6m1az2SMgt+Mb/N6CUwJiwD4CcSMgPOAWYF3yPVRKYkDLTj7kRGJ/pjnIZHDx/EfBZMJfPgAuOuH828H6wgS8B7vU6J79dIqXNDuaidtunuanN9kduXrfZFnwQERERERE5yTRmW0REREQkRFRsi4iIiIiEiIptEREREZEQUbEtIiIiIhIiKrZFREREREJExbaIiIiISIio2BYRERERCREV2yLtYGb/ambLvY5DRESOT222eEnFtkj75BLYMUtERMKf2mzxjHaQFGkDM4shsDV0QqvDFc65Xh6FJCIix6A2W8KBerZF2qYZmBD89/nAAGCod+GIiMhXUJstnovxOgARP3HONZtZKnAQWOycq/c6JhEROTq12RIO1LMt0nZjgM/VaIuI+ILabPGUim2RthsDrPE6CBER+VrUZounVGyLtN0oYK3XQYiIyNeiNls8pWJbpO2igGwzG2hmyV4HIyIiX0lttnhKxbZI2/0/YAawA3jS41hEROSrqc0WT2mdbRERERGREFHPtoiIiIhIiKjYFhEREREJERXbIiIiIiIhomJbRERERCREVGyLiIiIiISIim0RERERkRBRsS0iIiIiEiIqtkVEREREQkTFtoiIiIhIiPwP0amvc1IBYhAAAAAASUVORK5CYII=\n",
                "text/plain": "<Figure size 864x432 with 2 Axes>"
              }
            ],
            "_view_module": "@jupyter-widgets/output",
            "_model_module_version": "1.0.0",
            "_view_count": null,
            "_view_module_version": "1.0.0",
            "layout": "IPY_MODEL_501847007b8a47a296d2006b7fa89c31",
            "_model_module": "@jupyter-widgets/output"
          }
        },
        "70b306901387476aa6186492c46f4b0c": {
          "model_module": "@jupyter-widgets/controls",
          "model_name": "SliderStyleModel",
          "state": {
            "_view_name": "StyleView",
            "handle_color": null,
            "_model_name": "SliderStyleModel",
            "description_width": "",
            "_view_module": "@jupyter-widgets/base",
            "_model_module_version": "1.5.0",
            "_view_count": null,
            "_view_module_version": "1.2.0",
            "_model_module": "@jupyter-widgets/controls"
          }
        },
        "d2e5c70993314052be7b9e612295055e": {
          "model_module": "@jupyter-widgets/base",
          "model_name": "LayoutModel",
          "state": {
            "_view_name": "LayoutView",
            "grid_template_rows": null,
            "right": null,
            "justify_content": null,
            "_view_module": "@jupyter-widgets/base",
            "overflow": null,
            "_model_module_version": "1.2.0",
            "_view_count": null,
            "flex_flow": null,
            "width": null,
            "min_width": null,
            "border": null,
            "align_items": null,
            "bottom": null,
            "_model_module": "@jupyter-widgets/base",
            "top": null,
            "grid_column": null,
            "overflow_y": null,
            "overflow_x": null,
            "grid_auto_flow": null,
            "grid_area": null,
            "grid_template_columns": null,
            "flex": null,
            "_model_name": "LayoutModel",
            "justify_items": null,
            "grid_row": null,
            "max_height": null,
            "align_content": null,
            "visibility": null,
            "align_self": null,
            "height": null,
            "min_height": null,
            "padding": null,
            "grid_auto_rows": null,
            "grid_gap": null,
            "max_width": null,
            "order": null,
            "_view_module_version": "1.2.0",
            "grid_template_areas": null,
            "object_position": null,
            "object_fit": null,
            "grid_auto_columns": null,
            "margin": null,
            "display": null,
            "left": null
          }
        },
        "e09d30ee922a4f6393d04cc799ff26f3": {
          "model_module": "@jupyter-widgets/controls",
          "model_name": "SliderStyleModel",
          "state": {
            "_view_name": "StyleView",
            "handle_color": null,
            "_model_name": "SliderStyleModel",
            "description_width": "",
            "_view_module": "@jupyter-widgets/base",
            "_model_module_version": "1.5.0",
            "_view_count": null,
            "_view_module_version": "1.2.0",
            "_model_module": "@jupyter-widgets/controls"
          }
        },
        "6c0ccf4bff444b22b61aaedc6e5b9de6": {
          "model_module": "@jupyter-widgets/base",
          "model_name": "LayoutModel",
          "state": {
            "_view_name": "LayoutView",
            "grid_template_rows": null,
            "right": null,
            "justify_content": null,
            "_view_module": "@jupyter-widgets/base",
            "overflow": null,
            "_model_module_version": "1.2.0",
            "_view_count": null,
            "flex_flow": null,
            "width": null,
            "min_width": null,
            "border": null,
            "align_items": null,
            "bottom": null,
            "_model_module": "@jupyter-widgets/base",
            "top": null,
            "grid_column": null,
            "overflow_y": null,
            "overflow_x": null,
            "grid_auto_flow": null,
            "grid_area": null,
            "grid_template_columns": null,
            "flex": null,
            "_model_name": "LayoutModel",
            "justify_items": null,
            "grid_row": null,
            "max_height": null,
            "align_content": null,
            "visibility": null,
            "align_self": null,
            "height": null,
            "min_height": null,
            "padding": null,
            "grid_auto_rows": null,
            "grid_gap": null,
            "max_width": null,
            "order": null,
            "_view_module_version": "1.2.0",
            "grid_template_areas": null,
            "object_position": null,
            "object_fit": null,
            "grid_auto_columns": null,
            "margin": null,
            "display": null,
            "left": null
          }
        },
        "d6c6bae030904f18baadb36a4ab76867": {
          "model_module": "@jupyter-widgets/controls",
          "model_name": "SliderStyleModel",
          "state": {
            "_view_name": "StyleView",
            "handle_color": null,
            "_model_name": "SliderStyleModel",
            "description_width": "",
            "_view_module": "@jupyter-widgets/base",
            "_model_module_version": "1.5.0",
            "_view_count": null,
            "_view_module_version": "1.2.0",
            "_model_module": "@jupyter-widgets/controls"
          }
        },
        "6682d13839df4ef1aff6e91a382ceab3": {
          "model_module": "@jupyter-widgets/base",
          "model_name": "LayoutModel",
          "state": {
            "_view_name": "LayoutView",
            "grid_template_rows": null,
            "right": null,
            "justify_content": null,
            "_view_module": "@jupyter-widgets/base",
            "overflow": null,
            "_model_module_version": "1.2.0",
            "_view_count": null,
            "flex_flow": null,
            "width": null,
            "min_width": null,
            "border": null,
            "align_items": null,
            "bottom": null,
            "_model_module": "@jupyter-widgets/base",
            "top": null,
            "grid_column": null,
            "overflow_y": null,
            "overflow_x": null,
            "grid_auto_flow": null,
            "grid_area": null,
            "grid_template_columns": null,
            "flex": null,
            "_model_name": "LayoutModel",
            "justify_items": null,
            "grid_row": null,
            "max_height": null,
            "align_content": null,
            "visibility": null,
            "align_self": null,
            "height": null,
            "min_height": null,
            "padding": null,
            "grid_auto_rows": null,
            "grid_gap": null,
            "max_width": null,
            "order": null,
            "_view_module_version": "1.2.0",
            "grid_template_areas": null,
            "object_position": null,
            "object_fit": null,
            "grid_auto_columns": null,
            "margin": null,
            "display": null,
            "left": null
          }
        },
        "b1d87215e3b34af9a47691b319440b9e": {
          "model_module": "@jupyter-widgets/controls",
          "model_name": "SliderStyleModel",
          "state": {
            "_view_name": "StyleView",
            "handle_color": null,
            "_model_name": "SliderStyleModel",
            "description_width": "",
            "_view_module": "@jupyter-widgets/base",
            "_model_module_version": "1.5.0",
            "_view_count": null,
            "_view_module_version": "1.2.0",
            "_model_module": "@jupyter-widgets/controls"
          }
        },
        "c5326ed56b734cc7bf674da3c36a5042": {
          "model_module": "@jupyter-widgets/base",
          "model_name": "LayoutModel",
          "state": {
            "_view_name": "LayoutView",
            "grid_template_rows": null,
            "right": null,
            "justify_content": null,
            "_view_module": "@jupyter-widgets/base",
            "overflow": null,
            "_model_module_version": "1.2.0",
            "_view_count": null,
            "flex_flow": null,
            "width": null,
            "min_width": null,
            "border": null,
            "align_items": null,
            "bottom": null,
            "_model_module": "@jupyter-widgets/base",
            "top": null,
            "grid_column": null,
            "overflow_y": null,
            "overflow_x": null,
            "grid_auto_flow": null,
            "grid_area": null,
            "grid_template_columns": null,
            "flex": null,
            "_model_name": "LayoutModel",
            "justify_items": null,
            "grid_row": null,
            "max_height": null,
            "align_content": null,
            "visibility": null,
            "align_self": null,
            "height": null,
            "min_height": null,
            "padding": null,
            "grid_auto_rows": null,
            "grid_gap": null,
            "max_width": null,
            "order": null,
            "_view_module_version": "1.2.0",
            "grid_template_areas": null,
            "object_position": null,
            "object_fit": null,
            "grid_auto_columns": null,
            "margin": null,
            "display": null,
            "left": null
          }
        },
        "c5a6eb8b2ef141d9af26b4521dbde6bc": {
          "model_module": "@jupyter-widgets/controls",
          "model_name": "SliderStyleModel",
          "state": {
            "_view_name": "StyleView",
            "handle_color": null,
            "_model_name": "SliderStyleModel",
            "description_width": "",
            "_view_module": "@jupyter-widgets/base",
            "_model_module_version": "1.5.0",
            "_view_count": null,
            "_view_module_version": "1.2.0",
            "_model_module": "@jupyter-widgets/controls"
          }
        },
        "c8ae755dcce04e0bb7657d179447f12c": {
          "model_module": "@jupyter-widgets/base",
          "model_name": "LayoutModel",
          "state": {
            "_view_name": "LayoutView",
            "grid_template_rows": null,
            "right": null,
            "justify_content": null,
            "_view_module": "@jupyter-widgets/base",
            "overflow": null,
            "_model_module_version": "1.2.0",
            "_view_count": null,
            "flex_flow": null,
            "width": null,
            "min_width": null,
            "border": null,
            "align_items": null,
            "bottom": null,
            "_model_module": "@jupyter-widgets/base",
            "top": null,
            "grid_column": null,
            "overflow_y": null,
            "overflow_x": null,
            "grid_auto_flow": null,
            "grid_area": null,
            "grid_template_columns": null,
            "flex": null,
            "_model_name": "LayoutModel",
            "justify_items": null,
            "grid_row": null,
            "max_height": null,
            "align_content": null,
            "visibility": null,
            "align_self": null,
            "height": null,
            "min_height": null,
            "padding": null,
            "grid_auto_rows": null,
            "grid_gap": null,
            "max_width": null,
            "order": null,
            "_view_module_version": "1.2.0",
            "grid_template_areas": null,
            "object_position": null,
            "object_fit": null,
            "grid_auto_columns": null,
            "margin": null,
            "display": null,
            "left": null
          }
        },
        "501847007b8a47a296d2006b7fa89c31": {
          "model_module": "@jupyter-widgets/base",
          "model_name": "LayoutModel",
          "state": {
            "_view_name": "LayoutView",
            "grid_template_rows": null,
            "right": null,
            "justify_content": null,
            "_view_module": "@jupyter-widgets/base",
            "overflow": null,
            "_model_module_version": "1.2.0",
            "_view_count": null,
            "flex_flow": null,
            "width": null,
            "min_width": null,
            "border": null,
            "align_items": null,
            "bottom": null,
            "_model_module": "@jupyter-widgets/base",
            "top": null,
            "grid_column": null,
            "overflow_y": null,
            "overflow_x": null,
            "grid_auto_flow": null,
            "grid_area": null,
            "grid_template_columns": null,
            "flex": null,
            "_model_name": "LayoutModel",
            "justify_items": null,
            "grid_row": null,
            "max_height": null,
            "align_content": null,
            "visibility": null,
            "align_self": null,
            "height": null,
            "min_height": null,
            "padding": null,
            "grid_auto_rows": null,
            "grid_gap": null,
            "max_width": null,
            "order": null,
            "_view_module_version": "1.2.0",
            "grid_template_areas": null,
            "object_position": null,
            "object_fit": null,
            "grid_auto_columns": null,
            "margin": null,
            "display": null,
            "left": null
          }
        }
      }
    }
  },
  "cells": [
    {
      "cell_type": "markdown",
      "metadata": {
        "id": "view-in-github",
        "colab_type": "text"
      },
      "source": [
        "<a href=\"https://colab.research.google.com/github/pmaher86/continuous-time-consumption/blob/main/Continuous_Time_Consumption_Under_Certainty.ipynb\" target=\"_parent\"><img src=\"https://colab.research.google.com/assets/colab-badge.svg\" alt=\"Open In Colab\"/></a>"
      ]
    },
    {
      "cell_type": "markdown",
      "metadata": {
        "id": "LJg2yjTnve-k"
      },
      "source": [
        "# Exploring a continuous time consumption-under-certainty model in Python\n",
        "\n",
        "This is a short example of how we can extend a simple contrained optimization economics model to continuous time using calculus of variations, as well as an example of how we can explore a model both analytically and numerically using  common Python packages.\n",
        "\n",
        "## Setup\n",
        "First off, we'll need a newer version of [SymPy](https://www.sympy.org/en/index.html) than the current default in Colab."
      ]
    },
    {
      "cell_type": "code",
      "metadata": {
        "id": "cIvxEUmZPqhg",
        "colab": {
          "base_uri": "https://localhost:8080/"
        },
        "outputId": "51346eab-e846-421c-bb60-5ea600c9d5c9"
      },
      "source": [
        "!pip install --upgrade sympy"
      ],
      "execution_count": null,
      "outputs": [
        {
          "output_type": "stream",
          "text": [
            "Collecting sympy\n",
            "\u001b[?25l  Downloading https://files.pythonhosted.org/packages/ff/69/b16fc81b939d3efdd0b552f2e3e54f7fa1423d0c320cced2e69e675dde26/sympy-1.7.1-py3-none-any.whl (5.9MB)\n",
            "\u001b[K     |████████████████████████████████| 5.9MB 5.3MB/s \n",
            "\u001b[?25hRequirement already satisfied, skipping upgrade: mpmath>=0.19 in /usr/local/lib/python3.6/dist-packages (from sympy) (1.1.0)\n",
            "Installing collected packages: sympy\n",
            "  Found existing installation: sympy 1.1.1\n",
            "    Uninstalling sympy-1.1.1:\n",
            "      Successfully uninstalled sympy-1.1.1\n",
            "Successfully installed sympy-1.7.1\n"
          ],
          "name": "stdout"
        }
      ]
    },
    {
      "cell_type": "markdown",
      "metadata": {
        "id": "Hm-a-n7kxHKP"
      },
      "source": [
        "Now let's import some packages we'll need and set some styling."
      ]
    },
    {
      "cell_type": "code",
      "metadata": {
        "id": "VJJtUcPKmYk2"
      },
      "source": [
        "import sympy as sym\n",
        "import matplotlib.pyplot as plt\n",
        "import numpy as np\n",
        "import ipywidgets\n",
        "import functools\n",
        "from scipy.integrate import odeint\n",
        "from scipy.optimize import root_scalar, minimize, NonlinearConstraint\n",
        "from scipy.interpolate import interp1d"
      ],
      "execution_count": null,
      "outputs": []
    },
    {
      "cell_type": "code",
      "metadata": {
        "id": "MV_EBcR75F0Z"
      },
      "source": [
        "sym.init_printing()\n",
        "plt.style.use('seaborn-talk')"
      ],
      "execution_count": null,
      "outputs": []
    },
    {
      "cell_type": "markdown",
      "metadata": {
        "id": "UExKuvMu14bx"
      },
      "source": [
        "# Introduction\n",
        "A standard economics model for maximizing consumption under certainty (see: [here](https://www.econ.berkeley.edu/sites/default/files/course-homepage/2015-11-11/lecture-notes/Notes_Consumption_pog.pdf)) looks something like \n",
        "$$\n",
        "U = \\sum_t \\beta_t u(c_t)\n",
        "$$\n",
        "where $U$ is the overall utility to be maximized, $t$ is time, $\\beta_t$ is the discount factor at time $t$, $u$ is the utility function of consumption, and $c_t$ is the consumption at time $t$.\n",
        "\n",
        "Additionally, we have a few other variables: $A_t$ (overall wealth at time $t$), $y_t$ (income at time $t$), and $R$, the rate of return on wealth. These are related by the intertemporal equation $A_{t+1} = R(A_t + y_t - c_t)$. Together with some constraints (typically that $A_T \\geq 0$ at some finite time $T$), and specification of initial conditions, this becomes an optimization problem that can solved with [Lagrange multipliers](https://en.wikipedia.org/wiki/Lagrange_multiplier).\n",
        "\n",
        "## Continuous Time\n",
        "As an erstwhile physicist, there's something dissatisfying about working this problem in discrete time. This recursive \"update rule\" invites being rewritten as \n",
        "$$A_{t+1} - A_t = (R-1)A_t + Ry_t - Rc_t$$\n",
        "which is clearly suggestive of a differential equation in the continuous time limit. But first, a little smudging and redifintion to clean things up. One, we'll allow $y$ and $c$ to absorb the factors of $R$ beside them. We can imagine this as a slight change of the rules—that interest is not paid on income or consumption for the current time periods—and it should make intuitive sense that that shouldn't alter behavior substantially, especially as time periods become short. Alternately, we can imagine it as a redifintion of consumption and income, and note that scaling them by a constant shouldn't change the overall dynamics of the problem. Let's also then map $(R-1)\\rightarrow R$, so that instead of $R>1$ defining a positive interest rate we now have $R>0$. \n",
        "\n",
        "We can then write down the continuous time equations\n",
        "\n",
        "$$U = \\int\\beta(t)u(c(t))$$\n",
        "$$\\frac{d}{dt}A(t)=RA(t) + y(t) -c(t)$$\n",
        "\n",
        "The goal is now to find a fuction $c(t)$ that maximizes $U$. This is a textbook [calculus of variations](https://en.wikipedia.org/wiki/Calculus_of_variations) problem. Let's get started by building our [Lagrangian](https://en.wikipedia.org/wiki/Lagrangian_mechanics) in SymPy."
      ]
    },
    {
      "cell_type": "code",
      "metadata": {
        "colab": {
          "base_uri": "https://localhost:8080/",
          "height": 38
        },
        "id": "tA68Aq0Rmw1R",
        "outputId": "5af657b6-8aa5-48b0-f405-19bb55236678"
      },
      "source": [
        "t, beta, u, c = sym.Symbol('t'), sym.Function('beta'), sym.Function('u'), sym.Function('c')\n",
        "\n",
        "L = beta(t) * u(c(t))\n",
        "L"
      ],
      "execution_count": null,
      "outputs": [
        {
          "output_type": "execute_result",
          "data": {
            "image/png": "[encoded data removed]",
            "text/latex": "$\\displaystyle \\beta{\\left(t \\right)} u{\\left(c{\\left(t \\right)} \\right)}$",
            "text/plain": [
              "β(t)⋅u(c(t))"
            ]
          },
          "metadata": {
            "tags": []
          },
          "execution_count": 4
        }
      ]
    },
    {
      "cell_type": "markdown",
      "metadata": {
        "id": "jIj8ApM9ZmGF"
      },
      "source": [
        "Now let's write our our update equation."
      ]
    },
    {
      "cell_type": "code",
      "metadata": {
        "colab": {
          "base_uri": "https://localhost:8080/",
          "height": 52
        },
        "id": "uezKYtBW5bcx",
        "outputId": "13a0d0b0-2dbe-4536-bcbe-f7b3aad17bab"
      },
      "source": [
        "A = sym.Function('A') \n",
        "y = sym.Function('y')\n",
        "R = sym.Symbol('R', positive=True)\n",
        "update_eq = sym.Eq(A(t).diff(t), R*A(t) + y(t) - c(t))\n",
        "update_eq"
      ],
      "execution_count": null,
      "outputs": [
        {
          "output_type": "execute_result",
          "data": {
            "image/png": "[encoded data removed]",
            "text/latex": "$\\displaystyle \\frac{d}{d t} A{\\left(t \\right)} = R A{\\left(t \\right)} - c{\\left(t \\right)} + y{\\left(t \\right)}$",
            "text/plain": [
              "d                              \n",
              "──(A(t)) = R⋅A(t) - c(t) + y(t)\n",
              "dt                             "
            ]
          },
          "metadata": {
            "tags": []
          },
          "execution_count": 5
        }
      ]
    },
    {
      "cell_type": "markdown",
      "metadata": {
        "id": "AK_2fHqHZrw9"
      },
      "source": [
        "And we'll use it to rewrite the Lagrangian as an explicit function of $A$."
      ]
    },
    {
      "cell_type": "code",
      "metadata": {
        "colab": {
          "base_uri": "https://localhost:8080/",
          "height": 58
        },
        "id": "TUjBCwHU6qUl",
        "outputId": "b7faeb55-17b7-47fe-a7a4-724b27fd84dc"
      },
      "source": [
        "c_fn_of_A = sym.solve(update_eq, c(t))[0]\n",
        "L_explicit = L.subs(c(t), c_fn_of_A)\n",
        "L_explicit"
      ],
      "execution_count": null,
      "outputs": [
        {
          "output_type": "execute_result",
          "data": {
            "image/png": "[encoded data removed]",
            "text/latex": "$\\displaystyle \\beta{\\left(t \\right)} u{\\left(R A{\\left(t \\right)} + y{\\left(t \\right)} - \\frac{d}{d t} A{\\left(t \\right)} \\right)}$",
            "text/plain": [
              "      ⎛                d       ⎞\n",
              "β(t)⋅u⎜R⋅A(t) + y(t) - ──(A(t))⎟\n",
              "      ⎝                dt      ⎠"
            ]
          },
          "metadata": {
            "tags": []
          },
          "execution_count": 6
        }
      ]
    },
    {
      "cell_type": "markdown",
      "metadata": {
        "id": "t7ZWKDB87kee"
      },
      "source": [
        "# A naive solution\n",
        "\n",
        "In order to proceed futher, we'll need to start choosing some concrete functional forms. We'll use the common approach of a logarithmic utility function. To keep the problem analytically tractable, let's start with the rather unrealistic assumption of no discount factor ($\\beta(t)=1$)."
      ]
    },
    {
      "cell_type": "code",
      "metadata": {
        "colab": {
          "base_uri": "https://localhost:8080/",
          "height": 58
        },
        "id": "4sMi_IW3Tk_x",
        "outputId": "9f5185a2-105c-4546-8085-a5043935a2a9"
      },
      "source": [
        "L_simple = L_explicit.subs(u, sym.log).subs(beta(t), 1)\n",
        "L_simple"
      ],
      "execution_count": null,
      "outputs": [
        {
          "output_type": "execute_result",
          "data": {
            "image/png": "[encoded data removed]",
            "text/latex": "$\\displaystyle \\log{\\left(R A{\\left(t \\right)} + y{\\left(t \\right)} - \\frac{d}{d t} A{\\left(t \\right)} \\right)}$",
            "text/plain": [
              "   ⎛                d       ⎞\n",
              "log⎜R⋅A(t) + y(t) - ──(A(t))⎟\n",
              "   ⎝                dt      ⎠"
            ]
          },
          "metadata": {
            "tags": []
          },
          "execution_count": 7
        }
      ]
    },
    {
      "cell_type": "markdown",
      "metadata": {
        "id": "edJPYh4qFYeo"
      },
      "source": [
        "## Finding the equation of motion\n",
        "Let's now find the [Euler-Lagrange equation](https://en.wikipedia.org/wiki/Euler%E2%80%93Lagrange_equation) for this system, which describes the extrema. "
      ]
    },
    {
      "cell_type": "code",
      "metadata": {
        "colab": {
          "base_uri": "https://localhost:8080/",
          "height": 69
        },
        "id": "MXfcUbnc7srK",
        "outputId": "3bd15bf3-091c-40c3-f5b8-f289262b547e"
      },
      "source": [
        "EL_eq = sym.Eq(L_simple.diff(A(t)), L_simple.diff(A(t).diff(t)).diff(t))\n",
        "# We could also use SymPy's built in Euler equations function\n",
        "# EL_eq = sym.calculus.euler.euler_equations(L_simple, funcs=[A(t)], vars=[t])[0]\n",
        "EL_eq"
      ],
      "execution_count": null,
      "outputs": [
        {
          "output_type": "execute_result",
          "data": {
            "image/png": "[encoded data removed]",
            "text/latex": "$\\displaystyle \\frac{R}{R A{\\left(t \\right)} + y{\\left(t \\right)} - \\frac{d}{d t} A{\\left(t \\right)}} = - \\frac{- R \\frac{d}{d t} A{\\left(t \\right)} + \\frac{d^{2}}{d t^{2}} A{\\left(t \\right)} - \\frac{d}{d t} y{\\left(t \\right)}}{\\left(R A{\\left(t \\right)} + y{\\left(t \\right)} - \\frac{d}{d t} A{\\left(t \\right)}\\right)^{2}}$",
            "text/plain": [
              "                            ⎛                 2                 ⎞ \n",
              "                            ⎜    d           d          d       ⎟ \n",
              "                           -⎜- R⋅──(A(t)) + ───(A(t)) - ──(y(t))⎟ \n",
              "                            ⎜    dt           2         dt      ⎟ \n",
              "           R                ⎝               dt                  ⎠ \n",
              "──────────────────────── = ───────────────────────────────────────\n",
              "                d                                          2      \n",
              "R⋅A(t) + y(t) - ──(A(t))         ⎛                d       ⎞       \n",
              "                dt               ⎜R⋅A(t) + y(t) - ──(A(t))⎟       \n",
              "                                 ⎝                dt      ⎠       "
            ]
          },
          "metadata": {
            "tags": []
          },
          "execution_count": 8
        }
      ]
    },
    {
      "cell_type": "markdown",
      "metadata": {
        "id": "Jv1yecRmFyxi"
      },
      "source": [
        "SymPy's automatic simplification routines will hit their limits as we start to move into more complicated equations, so we'll have to do some manual tidying here and there."
      ]
    },
    {
      "cell_type": "code",
      "metadata": {
        "colab": {
          "base_uri": "https://localhost:8080/",
          "height": 58
        },
        "id": "_NZKscRWAU6m",
        "outputId": "e05dd5ba-6a37-4fdf-dff6-0601fc0fe186"
      },
      "source": [
        "def cancel_eq_denom(eq: sym.Eq, denom: sym.Expr) -> sym.Eq:\n",
        "  return sym.Eq(sym.simplify(eq.lhs*denom), sym.simplify(eq.rhs*denom)) \n",
        "\n",
        "EL_eq_simple = cancel_eq_denom(EL_eq, c_fn_of_A**2)\n",
        "EL_eq_simple"
      ],
      "execution_count": null,
      "outputs": [
        {
          "output_type": "execute_result",
          "data": {
            "image/png": "[encoded data removed]",
            "text/latex": "$\\displaystyle R \\left(R A{\\left(t \\right)} + y{\\left(t \\right)} - \\frac{d}{d t} A{\\left(t \\right)}\\right) = R \\frac{d}{d t} A{\\left(t \\right)} - \\frac{d^{2}}{d t^{2}} A{\\left(t \\right)} + \\frac{d}{d t} y{\\left(t \\right)}$",
            "text/plain": [
              "                                              2                 \n",
              "  ⎛                d       ⎞     d           d          d       \n",
              "R⋅⎜R⋅A(t) + y(t) - ──(A(t))⎟ = R⋅──(A(t)) - ───(A(t)) + ──(y(t))\n",
              "  ⎝                dt      ⎠     dt           2         dt      \n",
              "                                            dt                  "
            ]
          },
          "metadata": {
            "tags": []
          },
          "execution_count": 9
        }
      ]
    },
    {
      "cell_type": "markdown",
      "metadata": {
        "id": "AfiN3z5CGPow"
      },
      "source": [
        "This looks promising! Specifically, it's a [nonhomogeneous](https://math.libretexts.org/Bookshelves/Calculus/Book%3A_Calculus_(OpenStax)/17%3A_Second-Order_Differential_Equations/17.2%3A_Nonhomogeneous_Linear_Equations) second-order [ordinary differential equation](https://en.wikipedia.org/wiki/Ordinary_differential_equation). To solve it, we'll need to pick a form for $y(t)$. We'll use $y(t)=e^{wt}$, where $w$ is a parameter that describes the rate of wage growth which is different than $R$. Intuitively, the interesting cases occur when $R>w$, otherwise wealth and consumption are dominated by wages as $t$ grows."
      ]
    },
    {
      "cell_type": "code",
      "metadata": {
        "colab": {
          "base_uri": "https://localhost:8080/",
          "height": 58
        },
        "id": "OFf5vDC6Chbx",
        "outputId": "e07b814d-6666-40a0-abed-67ebed7465ea"
      },
      "source": [
        "w = sym.Symbol('w', positive=True)\n",
        "y_explicit = sym.exp(w*t)\n",
        "EL_explicit = sym.simplify(EL_eq_simple.subs(y(t), y_explicit))\n",
        "EL_explicit"
      ],
      "execution_count": null,
      "outputs": [
        {
          "output_type": "execute_result",
          "data": {
            "image/png": "[encoded data removed]",
            "text/latex": "$\\displaystyle R \\left(R A{\\left(t \\right)} + e^{t w} - \\frac{d}{d t} A{\\left(t \\right)}\\right) = R \\frac{d}{d t} A{\\left(t \\right)} + w e^{t w} - \\frac{d^{2}}{d t^{2}} A{\\left(t \\right)}$",
            "text/plain": [
              "                                                       2      \n",
              "  ⎛          t⋅w   d       ⎞     d             t⋅w    d       \n",
              "R⋅⎜R⋅A(t) + ℯ    - ──(A(t))⎟ = R⋅──(A(t)) + w⋅ℯ    - ───(A(t))\n",
              "  ⎝                dt      ⎠     dt                    2      \n",
              "                                                     dt       "
            ]
          },
          "metadata": {
            "tags": []
          },
          "execution_count": 10
        }
      ]
    },
    {
      "cell_type": "markdown",
      "metadata": {
        "id": "ZIFhrX5HK5rY"
      },
      "source": [
        "## Characterizing the solutions\n",
        "And now, time to solve!"
      ]
    },
    {
      "cell_type": "code",
      "metadata": {
        "colab": {
          "base_uri": "https://localhost:8080/",
          "height": 55
        },
        "id": "ngi1yApNCK7g",
        "outputId": "94c07468-dbb5-443d-d503-8a1549cf173d"
      },
      "source": [
        "sym.dsolve(EL_explicit, A(t))"
      ],
      "execution_count": null,
      "outputs": [
        {
          "output_type": "execute_result",
          "data": {
            "image/png": "[encoded data removed]",
            "text/latex": "$\\displaystyle A{\\left(t \\right)} = \\left(C_{1} + C_{2} t\\right) e^{R t} + \\frac{e^{t w}}{- R + w}$",
            "text/plain": [
              "                            t⋅w \n",
              "                    R⋅t    ℯ    \n",
              "A(t) = (C₁ + C₂⋅t)⋅ℯ    + ──────\n",
              "                          -R + w"
            ]
          },
          "metadata": {
            "tags": []
          },
          "execution_count": 11
        }
      ]
    },
    {
      "cell_type": "markdown",
      "metadata": {
        "id": "Xxoxhka7KzmK"
      },
      "source": [
        "As expected, our solution contains two constants of integration. We'll need to specify boundary conditions to eliminate them. Additionally, note the factor of $t$ with $C_2$—this comes from the fact that the homogenous part of our ODE has [repeated roots](https://math.libretexts.org/Bookshelves/Analysis/Supplemental_Modules_(Analysis)/Ordinary_Differential_Equations/3%3A_Second_Order_Linear_Differential_Equations/3.4%3A_Repeated_Roots_and_Reduction_of_Order) of $R$ for the characteristic equation.\n",
        "\n",
        "Let's plug in constants for initial wealth and its derivative."
      ]
    },
    {
      "cell_type": "code",
      "metadata": {
        "colab": {
          "base_uri": "https://localhost:8080/",
          "height": 58
        },
        "id": "VzrD8dgyQo08",
        "outputId": "b9b13738-be91-4364-a9e4-315d5031e6dd"
      },
      "source": [
        "A_0 = sym.Symbol('A_0')\n",
        "dA_dt_0 = sym.Symbol(\"A'_0\")\n",
        "A_sol = sym.dsolve(EL_explicit, A(t), ics={A(0): A_0, A(t).diff(t).subs(t,0): dA_dt_0})\n",
        "A_sol"
      ],
      "execution_count": null,
      "outputs": [
        {
          "output_type": "execute_result",
          "data": {
            "image/png": "[encoded data removed]",
            "text/latex": "$\\displaystyle A{\\left(t \\right)} = \\left(t \\left(A'_{0} - A_{0} R - 1\\right) + \\frac{- A_{0} R + A_{0} w - 1}{- R + w}\\right) e^{R t} + \\frac{e^{t w}}{- R + w}$",
            "text/plain": [
              "                                                        t⋅w \n",
              "       ⎛                     -A₀⋅R + A₀⋅w - 1⎞  R⋅t    ℯ    \n",
              "A(t) = ⎜t⋅(A'₀ - A₀⋅R - 1) + ────────────────⎟⋅ℯ    + ──────\n",
              "       ⎝                          -R + w     ⎠        -R + w"
            ]
          },
          "metadata": {
            "tags": []
          },
          "execution_count": 12
        }
      ]
    },
    {
      "cell_type": "markdown",
      "metadata": {
        "id": "Wwd4jLxkNXWD"
      },
      "source": [
        "So this is our full solution for wealth as a function of time. While, we're at it, let's also look at consumption as a function of time."
      ]
    },
    {
      "cell_type": "code",
      "metadata": {
        "colab": {
          "base_uri": "https://localhost:8080/",
          "height": 38
        },
        "id": "IhKmjmX008fe",
        "outputId": "0b96e407-b9e6-46ff-9fe4-491bbcf00013"
      },
      "source": [
        "sym.factor(\n",
        "  sym.cancel(\n",
        "    sym.simplify(c_fn_of_A.subs(A(t), A_sol.rhs).subs(y(t), y_explicit))\n",
        "  )\n",
        ")"
      ],
      "execution_count": null,
      "outputs": [
        {
          "output_type": "execute_result",
          "data": {
            "image/png": "[encoded data removed]",
            "text/latex": "$\\displaystyle - \\left(A'_{0} - A_{0} R - 1\\right) e^{R t}$",
            "text/plain": [
              "                   R⋅t\n",
              "-(A'₀ - A₀⋅R - 1)⋅ℯ   "
            ]
          },
          "metadata": {
            "tags": []
          },
          "execution_count": 13
        }
      ]
    },
    {
      "cell_type": "markdown",
      "metadata": {
        "id": "EiLDGfHy1ole"
      },
      "source": [
        "Here's our first surprise, *consumption does not dynamically depend on $w$, only $R$*. This might not have seemed obvious at first glance! Of course, we still have the free constants $A_0$ and $A'_0$ which could implicitly depend on $w$. To understand what to do with those, let's go back and integrate our Lagrangian up to some time $T$. (We'll need to do some manual simplification to help SymPy)."
      ]
    },
    {
      "cell_type": "code",
      "metadata": {
        "id": "glJDwpwMXJTY",
        "colab": {
          "base_uri": "https://localhost:8080/",
          "height": 53
        },
        "outputId": "e264b770-e2a3-4b21-95f5-18e93030a693"
      },
      "source": [
        "T = sym.Symbol('T', positive=True)\n",
        "integral = sym.integrate(sym.log(sym.cancel(sym.simplify(c_fn_of_A.subs(A(t), A_sol.rhs).subs(y(t), y_explicit)))), (t,0,T))\n",
        "sym.collect(sym.factor(integral), (1+ A_0*R - dA_dt_0))"
      ],
      "execution_count": null,
      "outputs": [
        {
          "output_type": "execute_result",
          "data": {
            "image/png": "[encoded data removed]",
            "text/latex": "$\\displaystyle \\frac{T \\left(R T + 2 \\log{\\left(- A'_{0} + A_{0} R + 1 \\right)}\\right)}{2}$",
            "text/plain": [
              "T⋅(R⋅T + 2⋅log(-A'₀ + A₀⋅R + 1))\n",
              "────────────────────────────────\n",
              "               2                "
            ]
          },
          "metadata": {
            "tags": []
          },
          "execution_count": 14
        }
      ]
    },
    {
      "cell_type": "markdown",
      "metadata": {
        "id": "7t9a3pjZ2BL3"
      },
      "source": [
        "We will consider $A_0$ to be given as a paramter of the problem, but we wish to allow a choice of any $A'_0$ so as to maximize the overall utility. As we can see, though, $U\\rightarrow \\infty$ as $A'_0\\rightarrow-\\infty$.\n",
        "\n",
        "Thus, without any constraint, the optimal strategy is infinite consumption enabled by infinite borrowing (negative wealth accumuluation). In order to make the problem more sensible let's amend it slightly—we'll consider maximizing consumption over some finite time period $T$, with the constraint that $A(T) \\geq 0$. We can translate this into a constraint on $A'_0$:"
      ]
    },
    {
      "cell_type": "code",
      "metadata": {
        "id": "Gu6TtOqJ6Iha",
        "colab": {
          "base_uri": "https://localhost:8080/",
          "height": 66
        },
        "outputId": "48828f6f-ce87-4101-f6a8-67ffbfac6d6f"
      },
      "source": [
        "sym.solve(A_sol.rhs.subs(t,T) >= 0, dA_dt_0)"
      ],
      "execution_count": null,
      "outputs": [
        {
          "output_type": "execute_result",
          "data": {
            "image/png": "[encoded data removed]",
            "text/latex": "$\\displaystyle A'_{0} \\geq \\frac{\\left(A_{0} R T e^{R T} + \\frac{A_{0} R e^{R T}}{- R + w} - \\frac{A_{0} w e^{R T}}{- R + w} + T e^{R T} + \\frac{e^{R T}}{- R + w} - \\frac{e^{T w}}{- R + w}\\right) e^{- R T}}{T}$",
            "text/plain": [
              "      ⎛                    R⋅T         R⋅T              R⋅T      T⋅w ⎞      \n",
              "      ⎜        R⋅T   A₀⋅R⋅ℯ      A₀⋅w⋅ℯ         R⋅T    ℯ        ℯ    ⎟  -R⋅T\n",
              "      ⎜A₀⋅R⋅T⋅ℯ    + ───────── - ───────── + T⋅ℯ    + ────── - ──────⎟⋅ℯ    \n",
              "      ⎝                -R + w      -R + w             -R + w   -R + w⎠      \n",
              "A'₀ ≥ ──────────────────────────────────────────────────────────────────────\n",
              "                                        T                                   "
            ]
          },
          "metadata": {
            "tags": []
          },
          "execution_count": 15
        }
      ]
    },
    {
      "cell_type": "markdown",
      "metadata": {
        "id": "tOERRNorZAdj"
      },
      "source": [
        "Because our integral is negative monontonic in $A'_0$, our maximal solution will be at the equality point. Let's plug this back into our solution for $A$."
      ]
    },
    {
      "cell_type": "code",
      "metadata": {
        "id": "GWTexL2g9gC-",
        "colab": {
          "base_uri": "https://localhost:8080/",
          "height": 61
        },
        "outputId": "6fb14f2e-eba7-4579-e64f-2cd043bb01d2"
      },
      "source": [
        "dA_dt_0_max = sym.solve(sym.Eq(A_sol.rhs.subs(t,T), 0), dA_dt_0)[0]\n",
        "A_max = sym.simplify(A_sol.rhs.subs(dA_dt_0,dA_dt_0_max))\n",
        "A_max"
      ],
      "execution_count": null,
      "outputs": [
        {
          "output_type": "execute_result",
          "data": {
            "image/png": "[encoded data removed]",
            "text/latex": "$\\displaystyle \\frac{\\left(- A_{0} R T e^{R \\left(T + t\\right)} + A_{0} R t e^{R \\left(T + t\\right)} + A_{0} T w e^{R \\left(T + t\\right)} - A_{0} t w e^{R \\left(T + t\\right)} - T e^{R \\left(T + t\\right)} + T e^{R T + t w} + t e^{R \\left(T + t\\right)} - t e^{R t + T w}\\right) e^{- R T}}{T \\left(- R + w\\right)}$",
            "text/plain": [
              "⎛          R⋅(T + t)           R⋅(T + t)           R⋅(T + t)           R⋅(T + \n",
              "⎝- A₀⋅R⋅T⋅ℯ          + A₀⋅R⋅t⋅ℯ          + A₀⋅T⋅w⋅ℯ          - A₀⋅t⋅w⋅ℯ       \n",
              "──────────────────────────────────────────────────────────────────────────────\n",
              "                                                                     T⋅(-R + w\n",
              "\n",
              "t)      R⋅(T + t)      R⋅T + t⋅w      R⋅(T + t)      R⋅t + T⋅w⎞  -R⋅T\n",
              "   - T⋅ℯ          + T⋅ℯ          + t⋅ℯ          - t⋅ℯ         ⎠⋅ℯ    \n",
              "─────────────────────────────────────────────────────────────────────\n",
              ")                                                                    "
            ]
          },
          "metadata": {
            "tags": []
          },
          "execution_count": 16
        }
      ]
    },
    {
      "cell_type": "markdown",
      "metadata": {
        "id": "E73q-b5wZi2l"
      },
      "source": [
        "This is a little hard to parse by eye, let's give SymPy a hand simplifying it."
      ]
    },
    {
      "cell_type": "code",
      "metadata": {
        "id": "HGnyGw-dGVR9",
        "colab": {
          "base_uri": "https://localhost:8080/",
          "height": 58
        },
        "outputId": "c37324d4-386e-4919-8d94-9da9f1c8241e"
      },
      "source": [
        "A_max.args"
      ],
      "execution_count": null,
      "outputs": [
        {
          "output_type": "execute_result",
          "data": {
            "image/png": "[encoded data removed]",
            "text/latex": "$\\displaystyle \\left( \\frac{1}{T}, \\  \\frac{1}{- R + w}, \\  - A_{0} R T e^{R \\left(T + t\\right)} + A_{0} R t e^{R \\left(T + t\\right)} + A_{0} T w e^{R \\left(T + t\\right)} - A_{0} t w e^{R \\left(T + t\\right)} - T e^{R \\left(T + t\\right)} + T e^{R T + t w} + t e^{R \\left(T + t\\right)} - t e^{R t + T w}, \\  e^{- R T}\\right)$",
            "text/plain": [
              "⎛1    1               R⋅(T + t)           R⋅(T + t)           R⋅(T + t)       \n",
              "⎜─, ──────, - A₀⋅R⋅T⋅ℯ          + A₀⋅R⋅t⋅ℯ          + A₀⋅T⋅w⋅ℯ          - A₀⋅t\n",
              "⎝T  -R + w                                                                    \n",
              "\n",
              "    R⋅(T + t)      R⋅(T + t)      R⋅T + t⋅w      R⋅(T + t)      R⋅t + T⋅w   -R\n",
              "⋅w⋅ℯ          - T⋅ℯ          + T⋅ℯ          + t⋅ℯ          - t⋅ℯ         , ℯ  \n",
              "                                                                              \n",
              "\n",
              "⋅T⎞\n",
              "  ⎟\n",
              "  ⎠"
            ]
          },
          "metadata": {
            "tags": []
          },
          "execution_count": 17
        }
      ]
    },
    {
      "cell_type": "code",
      "metadata": {
        "id": "W0Tp0KeOGW7v",
        "colab": {
          "base_uri": "https://localhost:8080/",
          "height": 68
        },
        "outputId": "96fed09c-4092-4b40-ad33-4c79b2a2094e"
      },
      "source": [
        "manual_numerator = (A_0*(-R+w)*(T-t) -(T-t) -t*sym.exp(-(R-w)*T))*sym.exp(R*t) +T*sym.exp(w*t) \n",
        "assert sym.simplify(A_max.args[2]*A_max.args[3] - manual_numerator) == 0\n",
        "A_max_simp = (1/(R-w))*(sym.exp(R*t) - sym.exp(w*t)) + (A_0*(1-t/T) -t/T/(R-w)*(1-sym.exp(-T*(R-w))))*sym.exp(R*t)\n",
        "assert sym.simplify(A_max_simp - manual_numerator * A_max.args[0]*A_max.args[1]) == 0\n",
        "A_max_simp"
      ],
      "execution_count": null,
      "outputs": [
        {
          "output_type": "execute_result",
          "data": {
            "image/png": "[encoded data removed]",
            "text/latex": "$\\displaystyle \\left(A_{0} \\left(1 - \\frac{t}{T}\\right) - \\frac{t \\left(1 - e^{- T \\left(R - w\\right)}\\right)}{T \\left(R - w\\right)}\\right) e^{R t} + \\frac{e^{R t} - e^{t w}}{R - w}$",
            "text/plain": [
              "⎛               ⎛     -T⋅(R - w)⎞⎞         R⋅t    t⋅w\n",
              "⎜   ⎛    t⎞   t⋅⎝1 - ℯ          ⎠⎟  R⋅t   ℯ    - ℯ   \n",
              "⎜A₀⋅⎜1 - ─⎟ - ───────────────────⎟⋅ℯ    + ───────────\n",
              "⎝   ⎝    T⎠        T⋅(R - w)     ⎠           R - w   "
            ]
          },
          "metadata": {
            "tags": []
          },
          "execution_count": 18
        }
      ]
    },
    {
      "cell_type": "markdown",
      "metadata": {
        "id": "cYINId1_Z8ps"
      },
      "source": [
        "So this is our full solution for $A(t)$. Written out this way, you should be able to convince yourself that for $R>w$ and $t<T$ we always have $A(t) > 0$.\n",
        "\n",
        "## Visualizing solutions\n",
        "To get an idea of what this looks like, let's turn it into a Python function and plug in some parameters"
      ]
    },
    {
      "cell_type": "code",
      "metadata": {
        "id": "ETw7ubDJ5LZR"
      },
      "source": [
        "A_max_fn = sym.lambdify([t, R, w, A_0, T], A_max, 'numpy') "
      ],
      "execution_count": null,
      "outputs": []
    },
    {
      "cell_type": "code",
      "metadata": {
        "id": "5KmaU7qw_M-Y",
        "colab": {
          "base_uri": "https://localhost:8080/",
          "height": 482
        },
        "outputId": "6c49439f-06bd-4728-b4f2-7bf051e87ee7"
      },
      "source": [
        "R_n = 0.1\n",
        "w_n = 0.05\n",
        "A_0_n = 0\n",
        "T_n = 100\n",
        "t_n = np.linspace(0,T_n,101)\n",
        "plt.plot(t_n, A_max_fn(t_n, R_n, w_n, A_0_n, T_n))\n",
        "plt.xlabel('$t$')\n",
        "plt.ylabel('$A$')"
      ],
      "execution_count": null,
      "outputs": [
        {
          "output_type": "execute_result",
          "data": {
            "text/plain": [
              "Text(0, 0.5, '$A$')"
            ]
          },
          "metadata": {
            "tags": []
          },
          "execution_count": 20
        },
        {
          "output_type": "display_data",
          "data": {
            "image/png": "[encoded data removed]",
            "text/plain": [
              "<Figure size 748.8x514.8 with 1 Axes>"
            ]
          },
          "metadata": {
            "tags": [],
            "needs_background": "light"
          }
        }
      ]
    },
    {
      "cell_type": "markdown",
      "metadata": {
        "id": "JB1TECnucQBb"
      },
      "source": [
        "Qualitatively, the optimal behavior is to take advantage of the savings rate to amass weath until some point late in late, and then spend it all by the end—seems reasonable. Let's see if we can the find the time that corresponds to maximum wealth."
      ]
    },
    {
      "cell_type": "code",
      "metadata": {
        "id": "GT1CV4UlFfK3",
        "colab": {
          "base_uri": "https://localhost:8080/",
          "height": 38
        },
        "outputId": "82714dfa-20d7-409e-bfb5-628239f1ec5a"
      },
      "source": [
        "max_A_eq = sym.Eq(A_max_simp.diff(t), 0)\n",
        "max_A_eq_2 = cancel_eq_denom(cancel_eq_denom(max_A_eq, sym.exp(-R*t)), T*(-R+w))\n",
        "max_A_eq_2"
      ],
      "execution_count": null,
      "outputs": [
        {
          "output_type": "execute_result",
          "data": {
            "image/png": "[encoded data removed]",
            "text/latex": "$\\displaystyle - A_{0} R^{2} T + A_{0} R^{2} t + A_{0} R T w - A_{0} R t w + A_{0} R - A_{0} w - R T - R t e^{- R T + T w} + R t + T w e^{- R t + t w} - e^{- R T + T w} + 1 = 0$",
            "text/plain": [
              "      2         2                                                    -R⋅T + T⋅\n",
              "- A₀⋅R ⋅T + A₀⋅R ⋅t + A₀⋅R⋅T⋅w - A₀⋅R⋅t⋅w + A₀⋅R - A₀⋅w - R⋅T - R⋅t⋅ℯ         \n",
              "\n",
              "w              -R⋅t + t⋅w    -R⋅T + T⋅w        \n",
              "  + R⋅t + T⋅w⋅ℯ           - ℯ           + 1 = 0"
            ]
          },
          "metadata": {
            "tags": []
          },
          "execution_count": 21
        }
      ]
    },
    {
      "cell_type": "markdown",
      "metadata": {
        "id": "gyL1-CjjdxSq"
      },
      "source": [
        "Simplifying a bit:"
      ]
    },
    {
      "cell_type": "code",
      "metadata": {
        "id": "ru5pQUmv9L-E",
        "colab": {
          "base_uri": "https://localhost:8080/",
          "height": 47
        },
        "outputId": "77d66c37-b5bb-43ef-f7ef-f9b701717021"
      },
      "source": [
        "max_A_eq_simp = sym.Eq((-R*A_0*(R-w)*T +A_0*(R-w) - sym.exp(-T*(R-w)) + 1 -R*T) + t*R*(1 - sym.exp(-T*(R-w)) + A_0*(R-w)) + T*w*sym.exp(-t*(R-w)) , 0)\n",
        "assert sym.simplify(max_A_eq_simp.lhs - max_A_eq_2.lhs) == 0\n",
        "max_A_eq_simp"
      ],
      "execution_count": null,
      "outputs": [
        {
          "output_type": "execute_result",
          "data": {
            "image/png": "[encoded data removed]",
            "text/latex": "$\\displaystyle - A_{0} R T \\left(R - w\\right) + A_{0} \\left(R - w\\right) - R T + R t \\left(A_{0} \\left(R - w\\right) + 1 - e^{- T \\left(R - w\\right)}\\right) + T w e^{- t \\left(R - w\\right)} + 1 - e^{- T \\left(R - w\\right)} = 0$",
            "text/plain": [
              "                                         ⎛                  -T⋅(R - w)⎞       \n",
              "-A₀⋅R⋅T⋅(R - w) + A₀⋅(R - w) - R⋅T + R⋅t⋅⎝A₀⋅(R - w) + 1 - ℯ          ⎠ + T⋅w⋅\n",
              "\n",
              " -t⋅(R - w)        -T⋅(R - w)    \n",
              "ℯ           + 1 - ℯ           = 0"
            ]
          },
          "metadata": {
            "tags": []
          },
          "execution_count": 22
        }
      ]
    },
    {
      "cell_type": "markdown",
      "metadata": {
        "id": "rceC0MQMd07N"
      },
      "source": [
        "At this point we can see that we have a transcendental equation of the form $a +bt+e^{ct}$=0, with some ugly coefficients. We won't bother trying to simplify any furhter, other than to note the solution involves the [Lambert $W$ Function](https://en.wikipedia.org/wiki/Lambert_W_function)."
      ]
    },
    {
      "cell_type": "code",
      "metadata": {
        "id": "Q1-6spvVSNie",
        "colab": {
          "base_uri": "https://localhost:8080/",
          "height": 66
        },
        "outputId": "c5d1ffc5-a6ed-4905-8e04-3805b6072174"
      },
      "source": [
        "a, b, c = sym.symbols('a,b,c')\n",
        "sym.solve(sym.Eq(a + b*t + sym.exp(c*t), 0),t)[0]"
      ],
      "execution_count": null,
      "outputs": [
        {
          "output_type": "execute_result",
          "data": {
            "image/png": "[encoded data removed]",
            "text/latex": "$\\displaystyle - \\frac{a}{b} - \\frac{W\\left(\\frac{c e^{- \\frac{a c}{b}}}{b}\\right)}{c}$",
            "text/plain": [
              "       ⎛   -a⋅c ⎞\n",
              "       ⎜   ─────⎟\n",
              "       ⎜     b  ⎟\n",
              "       ⎜c⋅ℯ     ⎟\n",
              "      W⎜────────⎟\n",
              "  a    ⎝   b    ⎠\n",
              "- ─ - ───────────\n",
              "  b        c     "
            ]
          },
          "metadata": {
            "tags": []
          },
          "execution_count": 23
        }
      ]
    },
    {
      "cell_type": "markdown",
      "metadata": {
        "id": "JS-dRIN7fgsb"
      },
      "source": [
        "We can also check the numeric solution for the parameters we plotted above."
      ]
    },
    {
      "cell_type": "code",
      "metadata": {
        "id": "OZ9DYN_kB9Ay",
        "colab": {
          "base_uri": "https://localhost:8080/",
          "height": 37
        },
        "outputId": "58c9338a-db13-4564-ad34-199700b9006c"
      },
      "source": [
        "sym.nsolve(max_A_eq_simp.subs(A_0,A_0_n).subs(R, R_n).subs(w, w_n).subs(T, T_n), T_n/2)"
      ],
      "execution_count": null,
      "outputs": [
        {
          "output_type": "execute_result",
          "data": {
            "image/png": "[encoded data removed]",
            "text/latex": "$\\displaystyle 90.1225642088949$",
            "text/plain": [
              "90.1225642088949"
            ]
          },
          "metadata": {
            "tags": []
          },
          "execution_count": 24
        }
      ]
    },
    {
      "cell_type": "markdown",
      "metadata": {
        "id": "33dtEyVN_QjE"
      },
      "source": [
        "# A more interesting formulation\n",
        "Now let's make the problem more realistic, if only slightly. We'll incude an exponential discount factor for $\\beta$ characterized by a decay rate $\\gamma$. We can think of this factor a couple of ways—it could express general time preference, or the declining quality of life as we age. In any case, we can write down our new Lagrangian."
      ]
    },
    {
      "cell_type": "code",
      "metadata": {
        "id": "poEieznL_t4k",
        "colab": {
          "base_uri": "https://localhost:8080/",
          "height": 58
        },
        "outputId": "0caf47d4-d242-4f6f-fbbf-1a82643b74dc"
      },
      "source": [
        "gamma = sym.Symbol('gamma', positive=True)\n",
        "L_full = L_explicit.subs(beta(t), sym.exp(-gamma*t)).subs(u, sym.log)\n",
        "L_full"
      ],
      "execution_count": null,
      "outputs": [
        {
          "output_type": "execute_result",
          "data": {
            "image/png": "[encoded data removed]",
            "text/latex": "$\\displaystyle e^{- \\gamma t} \\log{\\left(R A{\\left(t \\right)} + y{\\left(t \\right)} - \\frac{d}{d t} A{\\left(t \\right)} \\right)}$",
            "text/plain": [
              " -γ⋅t    ⎛                d       ⎞\n",
              "ℯ    ⋅log⎜R⋅A(t) + y(t) - ──(A(t))⎟\n",
              "         ⎝                dt      ⎠"
            ]
          },
          "metadata": {
            "tags": []
          },
          "execution_count": 25
        }
      ]
    },
    {
      "cell_type": "markdown",
      "metadata": {
        "id": "m-TuTaODuOi9"
      },
      "source": [
        "This leads to a new set of Euler-Lagrange equations."
      ]
    },
    {
      "cell_type": "code",
      "metadata": {
        "id": "fU8Hb0sn_vlr",
        "colab": {
          "base_uri": "https://localhost:8080/",
          "height": 58
        },
        "outputId": "f5cd0c88-7626-4002-b636-de3f8afd6e1d"
      },
      "source": [
        "EL_eq = sym.Eq(L_full.diff(A(t)), L_full.diff(A(t).diff(t)).diff(t))\n",
        "EL_eq_simple = cancel_eq_denom(EL_eq, c_fn_of_A**2)\n",
        "EL_explicit = sym.simplify(EL_eq_simple.subs(y(t), y_explicit))\n",
        "EL_explicit"
      ],
      "execution_count": null,
      "outputs": [
        {
          "output_type": "execute_result",
          "data": {
            "image/png": "[encoded data removed]",
            "text/latex": "$\\displaystyle R \\left(R A{\\left(t \\right)} + e^{t w} - \\frac{d}{d t} A{\\left(t \\right)}\\right) e^{- \\gamma t} = \\left(R \\frac{d}{d t} A{\\left(t \\right)} + \\gamma \\left(R A{\\left(t \\right)} + e^{t w} - \\frac{d}{d t} A{\\left(t \\right)}\\right) + w e^{t w} - \\frac{d^{2}}{d t^{2}} A{\\left(t \\right)}\\right) e^{- \\gamma t}$",
            "text/plain": [
              "                                     ⎛                                        \n",
              "  ⎛          t⋅w   d       ⎞  -γ⋅t   ⎜  d            ⎛          t⋅w   d       \n",
              "R⋅⎜R⋅A(t) + ℯ    - ──(A(t))⎟⋅ℯ     = ⎜R⋅──(A(t)) + γ⋅⎜R⋅A(t) + ℯ    - ──(A(t))\n",
              "  ⎝                dt      ⎠         ⎜  dt           ⎝                dt      \n",
              "                                     ⎝                                        \n",
              "\n",
              "               2      ⎞      \n",
              "⎞      t⋅w    d       ⎟  -γ⋅t\n",
              "⎟ + w⋅ℯ    - ───(A(t))⎟⋅ℯ    \n",
              "⎠              2      ⎟      \n",
              "             dt       ⎠      "
            ]
          },
          "metadata": {
            "tags": []
          },
          "execution_count": 26
        }
      ]
    },
    {
      "cell_type": "markdown",
      "metadata": {
        "id": "tbe0lT7YuURZ"
      },
      "source": [
        "Unfortunately, our analytical exploration has to stop here. This isn't an easy differential equation anymore (at least not for me or SymPy), so we'll switch to numerics. First let's get an expression for the second derivative."
      ]
    },
    {
      "cell_type": "code",
      "metadata": {
        "id": "RCs_sUimBW75",
        "colab": {
          "base_uri": "https://localhost:8080/",
          "height": 52
        },
        "outputId": "406c5de3-53e7-466f-bd4d-381cefc54ea1"
      },
      "source": [
        "d2A_sol = sym.simplify(sym.solve(EL_explicit, A(t).diff(t).diff(t))[0])\n",
        "d2A_sol"
      ],
      "execution_count": null,
      "outputs": [
        {
          "output_type": "execute_result",
          "data": {
            "image/png": "[encoded data removed]",
            "text/latex": "$\\displaystyle - R^{2} A{\\left(t \\right)} + R \\gamma A{\\left(t \\right)} - R e^{t w} + 2 R \\frac{d}{d t} A{\\left(t \\right)} + \\gamma e^{t w} - \\gamma \\frac{d}{d t} A{\\left(t \\right)} + w e^{t w}$",
            "text/plain": [
              "   2                      t⋅w       d             t⋅w     d             t⋅w\n",
              "- R ⋅A(t) + R⋅γ⋅A(t) - R⋅ℯ    + 2⋅R⋅──(A(t)) + γ⋅ℯ    - γ⋅──(A(t)) + w⋅ℯ   \n",
              "                                    dt                    dt               "
            ]
          },
          "metadata": {
            "tags": []
          },
          "execution_count": 27
        }
      ]
    },
    {
      "cell_type": "markdown",
      "metadata": {
        "id": "UgDrn56euvZ9"
      },
      "source": [
        "And now create our numeric functions."
      ]
    },
    {
      "cell_type": "code",
      "metadata": {
        "id": "DnMi088nBqMc"
      },
      "source": [
        "d2A_func = sym.lambdify([R, w, gamma,  A(t), A(t).diff(t), t], d2A_sol, 'numpy')\n",
        "c_func = sym.lambdify([R, w, A(t), A(t).diff(t), t], c_fn_of_A.subs(y(t), y_explicit),  'numpy')"
      ],
      "execution_count": null,
      "outputs": []
    },
    {
      "cell_type": "markdown",
      "metadata": {
        "id": "Cc0XCtG9u7L6"
      },
      "source": [
        "We can use SciPy's [odeint](https://docs.scipy.org/doc/scipy/reference/generated/scipy.integrate.odeint.html) routine to get numerical solutions. We'll also need to use a minimization routine to find the right value for our $A'_0$ constant of integration. "
      ]
    },
    {
      "cell_type": "code",
      "metadata": {
        "id": "w0uWA9bGERPo"
      },
      "source": [
        "def numerical_integrate(R, w, gamma, T, A_0, dA_dt_0, n_points = 101):\n",
        "  ts = np.linspace(0, T, n_points)\n",
        "  def dV_dt(V, t):\n",
        "      # V is a vector representing [A, dA/dt]\n",
        "      return [V[1], d2A_func(R, w, gamma, V[0], V[1], t)]\n",
        "  V0 = [A_0, dA_dt_0]\n",
        "  Vs = odeint(dV_dt, V0, ts)\n",
        "  As = Vs[:,0]\n",
        "  cs = c_func(R, w, As, Vs[:, 1], ts)\n",
        "  return ts, As, cs\n",
        "\n",
        "def find_constraint_ic(R, w, gamma, T, A_0):\n",
        "  int_fn = functools.partial(numerical_integrate, R, w, gamma, T, A_0)\n",
        "  constraint = NonlinearConstraint(lambda dA_dt_0: int_fn(dA_dt_0)[1][-1], lb=0, ub=np.inf)\n",
        "  return minimize(lambda dA_dt_0: -sum(np.log(int_fn(dA_dt_0)[2])), 0, constraints=[constraint])\n",
        "\n",
        "def constrained_integrate(R, w, gamma, T, A_0, n_points=101):\n",
        "  dA_dt_0 = find_constraint_ic(R, w, gamma, T, A_0).x[0]\n",
        "  return numerical_integrate(R, w, gamma, T, A_0, dA_dt_0, n_points)\n",
        "    "
      ],
      "execution_count": null,
      "outputs": []
    },
    {
      "cell_type": "markdown",
      "metadata": {
        "id": "pWk8enoWoKmU"
      },
      "source": [
        "Let's use some interactive widgets so we can explore what the solutions look like."
      ]
    },
    {
      "cell_type": "code",
      "metadata": {
        "id": "ZBOYnMZdKQmV",
        "colab": {
          "base_uri": "https://localhost:8080/",
          "height": 578,
          "referenced_widgets": [
            "86f75dbb53ae494bae67272703ca1227",
            "f34c26c6609b49a8b2af0e162d098623",
            "2e138bf503774f6692ad3908bf596424",
            "0367ea7a41b440f9942de2abe4f5e1fc",
            "6a7997afcc4c4f589a55501a59e62d0a",
            "2e3be3ec32a4415a9381a4f8c5f62384",
            "3f5dcbe585474806a3d2d0ce5373db49",
            "dc48f25c04c7487a98f8c109f22e6281",
            "70b306901387476aa6186492c46f4b0c",
            "d2e5c70993314052be7b9e612295055e",
            "e09d30ee922a4f6393d04cc799ff26f3",
            "6c0ccf4bff444b22b61aaedc6e5b9de6",
            "d6c6bae030904f18baadb36a4ab76867",
            "6682d13839df4ef1aff6e91a382ceab3",
            "b1d87215e3b34af9a47691b319440b9e",
            "c5326ed56b734cc7bf674da3c36a5042",
            "c5a6eb8b2ef141d9af26b4521dbde6bc",
            "c8ae755dcce04e0bb7657d179447f12c",
            "501847007b8a47a296d2006b7fa89c31"
          ]
        },
        "outputId": "fcfc5f8f-452d-42b7-c288-e836ba85b8e3"
      },
      "source": [
        "def plot_lines(R, w, gamma, T, A_0):\n",
        "  fig, (ax1, ax2) = plt.subplots(1, 2, figsize=(12,6))\n",
        "  ts, As, cs, = constrained_integrate(R, w, gamma, T, A_0, n_points=101)\n",
        "  ax1.plot(ts, As)\n",
        "  ax2.plot(ts, cs)\n",
        "  ax1.set_xlabel('$t$')\n",
        "  ax1.set_ylabel('$A$')\n",
        "  ax2.set_xlabel('$t$')\n",
        "  ax2.set_ylabel('$c$')\n",
        "\n",
        "    \n",
        "ipywidgets.interact(\n",
        "    plot_lines,\n",
        "    R = ipywidgets.FloatSlider(value=0.05, min=0, max=0.05, step=0.001, readout_format='.3f'),\n",
        "    w = ipywidgets.FloatSlider(value=0.03, min=0, max=0.05, step=0.001, readout_format='.3f'),\n",
        "    gamma = ipywidgets.FloatSlider(value=0.03, min=0, max=0.05, step=0.001, readout_format='.3f'),\n",
        "    T = ipywidgets.IntSlider(value=100, min=1, max=100, step=1),\n",
        "    A_0 = ipywidgets.IntSlider(value=35, min=0, max=100, step=1),\n",
        ")"
      ],
      "execution_count": null,
      "outputs": [
        {
          "output_type": "display_data",
          "data": {
            "application/vnd.jupyter.widget-view+json": {
              "model_id": "86f75dbb53ae494bae67272703ca1227",
              "version_minor": 0,
              "version_major": 2
            },
            "text/plain": [
              "interactive(children=(FloatSlider(value=0.05, description='R', max=0.05, readout_format='.3f', step=0.001), Fl…"
            ]
          },
          "metadata": {
            "tags": []
          }
        },
        {
          "output_type": "execute_result",
          "data": {
            "text/plain": [
              "<function __main__.plot_lines>"
            ]
          },
          "metadata": {
            "tags": []
          },
          "execution_count": 30
        }
      ]
    },
    {
      "cell_type": "markdown",
      "metadata": {
        "id": "3ht_0q6FoWjA"
      },
      "source": [
        "One of the things that jumps out here is that we now see the behavior of borrowing: depending on the different parameters, wealth decreases below zero, only to recover to zero by the final time. Intuitively this makes sense; for large discount factors, we should try to consume as much as possibe at early times even if that means having interest work against us when we're old.\n",
        "## Exploring parameter regimes\n",
        "In order to see how borrowing depends on the parameters of the problem, let's plot the maximum and minimum wealth as functions of $\\beta$ and $w$ for a fixed $R$. "
      ]
    },
    {
      "cell_type": "code",
      "metadata": {
        "id": "vH04HXdic30O"
      },
      "source": [
        "def plot_max_and_min_A(A_0):\n",
        "  n_grid = 41\n",
        "  R = 0.025\n",
        "  ws = np.linspace(0, 1, n_grid) * R\n",
        "  gammas = np.linspace(0, 2, n_grid) * R\n",
        "  max_As = np.empty((n_grid,n_grid))\n",
        "  min_As = np.empty((n_grid,n_grid))\n",
        "  for i, w in enumerate(ws):\n",
        "    for j, gamma in enumerate(gammas):\n",
        "      ts, As, cs = constrained_integrate(R, w, gamma, 100, A_0)\n",
        "      max_As[i,j] = As.max()\n",
        "      min_As[i,j] = As.min()\n",
        "\n",
        "  fig, (ax1, ax2) = plt.subplots(1, 2, figsize=(18,6))\n",
        "  c1 = ax1.pcolor(gammas/R, ws/R, max_As, cmap='seismic', vmin=-100, vmax=100)\n",
        "  plt.colorbar(c1, ax=ax1)\n",
        "  c2 = ax2.pcolor(gammas/R, ws/R, min_As, cmap='seismic', vmin=-100, vmax=100)\n",
        "  plt.colorbar(c2, ax=ax2)\n",
        "  ax1.set_xlabel('$\\gamma$ / $R$')\n",
        "  ax1.set_ylabel('$w$ / $R$')\n",
        "  ax1.set_title('Max $A$')\n",
        "  ax2.set_xlabel('$\\gamma$ / $R$')\n",
        "  ax2.set_ylabel('$w$ / $R$')\n",
        "  ax2.set_title('Min $A$')\n"
      ],
      "execution_count": null,
      "outputs": []
    },
    {
      "cell_type": "code",
      "metadata": {
        "id": "EZjccvJdelaY",
        "colab": {
          "base_uri": "https://localhost:8080/",
          "height": 423
        },
        "outputId": "d8698db7-001f-46ee-dbfb-286cc6bb3fd3"
      },
      "source": [
        "plot_max_and_min_A(0)"
      ],
      "execution_count": null,
      "outputs": [
        {
          "output_type": "display_data",
          "data": {
            "image/png": "[encoded data removed]",
            "text/plain": [
              "<Figure size 1296x432 with 4 Axes>"
            ]
          },
          "metadata": {
            "tags": [],
            "needs_background": "light"
          }
        }
      ]
    },
    {
      "cell_type": "markdown",
      "metadata": {
        "id": "7biVppg9q1IK"
      },
      "source": [
        "For zero initial wealth, we can see a roughly linear boundary in $w$ vs. $\\gamma$ separating the two regimes. For small $\\gamma$ and $w$, wealth is always positive (the saving regime), and for large $\\gamma$ and $w$, wealth is always negative (the borrowing regime). Let's see how starting with some initial wealth changes this picture."
      ]
    },
    {
      "cell_type": "code",
      "metadata": {
        "id": "3_6qyPVQhZUB",
        "colab": {
          "base_uri": "https://localhost:8080/",
          "height": 423
        },
        "outputId": "000f8469-6c70-4309-ac9c-abc5d5d7d394"
      },
      "source": [
        "plot_max_and_min_A(50)"
      ],
      "execution_count": null,
      "outputs": [
        {
          "output_type": "display_data",
          "data": {
            "image/png": "[encoded data removed]",
            "text/plain": [
              "<Figure size 1296x432 with 4 Axes>"
            ]
          },
          "metadata": {
            "tags": [],
            "needs_background": "light"
          }
        }
      ]
    },
    {
      "cell_type": "markdown",
      "metadata": {
        "id": "cwn7e7VSsYuO"
      },
      "source": [
        "The story is broadly the same: there's a saving regime in the lower left, and a borrowing regime in the upper right. But it appears that there's also a finite region of of small $w$ and intermediate $\\gamma$ where neither saving nor borrowing occurs: wealth just monotonically decreases to zero at the final time. Additionally, we see that the boundaries of the regimes move and change slope. \r\n",
        "\r\n",
        "Overall, this shows that the behaviors associated with the simple goal of maximizing lifetime utility can be very different dependent on the parameters and initial conditions of the problem."
      ]
    },
    {
      "cell_type": "markdown",
      "metadata": {
        "id": "vWPO0v8-xlda"
      },
      "source": [
        "# Possible extensions\r\n",
        "Of course, this is still very much a toy model. We could add to it in a number of ways, like having a more realistic model of labor income (perhaps with a cutoff retirement age, or an asymmetric log-normal distribution?). We could also play with the contraints we impose to prevent unbounded borrowing. One such possibilty is requiring that the average wealth over the time period $[0,T]$ is greater than zero.\r\n",
        "\r\n",
        "For this constraint, we would have to introduce the use of Lagrange multipliers. Our Lagrangian would then look like \r\n",
        "$$L=\\beta(t)u(RA(t) +y(t)-\\frac{d}{dt}A(t)) - \\lambda A(t)$$ \r\n",
        "where $\\lambda >0$ is the constraint force.\r\n",
        "\r\n",
        "How would a constraint like this change what wealth at the end of life looks like?\r\n",
        "\r\n",
        "Indeed, we could think of many more interesting constraints to impose on the problem, though if the constraint is [nonholonomic](https://en.wikipedia.org/wiki/Nonholonomic_system) our calculus of variations approach is unlikely to be successful."
      ]
    }
  ]
}